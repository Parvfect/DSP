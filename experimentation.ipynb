{
 "cells": [
  {
   "cell_type": "markdown",
   "id": "eacf1ec6",
   "metadata": {},
   "source": [
    "### Testing basic convolution, fft, scoring metric for subsequence existence"
   ]
  },
  {
   "cell_type": "code",
   "execution_count": 37,
   "id": "cfef8a33",
   "metadata": {},
   "outputs": [],
   "source": [
    "from scipy.fft import fft, ifft\n",
    "import numpy as np\n",
    "import matplotlib.pyplot as plt\n",
    "from sklearn.preprocessing import normalize"
   ]
  },
  {
   "cell_type": "code",
   "execution_count": 4,
   "id": "82bcdfb3",
   "metadata": {},
   "outputs": [],
   "source": [
    "from ont_fast5_api.fast5_interface import get_fast5_file"
   ]
  },
  {
   "cell_type": "markdown",
   "id": "4dd3d748",
   "metadata": {},
   "source": [
    "### Data extraction from f5"
   ]
  },
  {
   "cell_type": "code",
   "execution_count": 6,
   "id": "acbe86e1",
   "metadata": {},
   "outputs": [],
   "source": [
    "def get_data_from_fast5(fast5_filepath):\n",
    "    data_arr = []\n",
    "    read_ids = []\n",
    "    with get_fast5_file(fast5_filepath, mode=\"r\") as f5:\n",
    "        for read in f5.get_reads():\n",
    "            raw_data = read.get_raw_data()\n",
    "            read_ids.append(read.read_id)\n",
    "            data_arr.append(raw_data)\n",
    "    return read_ids, data_arr"
   ]
  },
  {
   "cell_type": "code",
   "execution_count": 7,
   "id": "f4161a29",
   "metadata": {},
   "outputs": [],
   "source": [
    "f5_filepath = r\"data\\FAW71953_6c8b1e8d_944d09f0_2.fast5\"\n",
    "_, data_arr = get_data_from_fast5(f5_filepath)"
   ]
  },
  {
   "cell_type": "code",
   "execution_count": 9,
   "id": "89b0ded0",
   "metadata": {},
   "outputs": [
    {
     "data": {
      "text/plain": [
       "array([589, 522, 513, ..., 600, 587, 613], dtype=int16)"
      ]
     },
     "execution_count": 9,
     "metadata": {},
     "output_type": "execute_result"
    }
   ],
   "source": [
    "data_arr[0]"
   ]
  },
  {
   "cell_type": "markdown",
   "id": "84dd320c",
   "metadata": {},
   "source": [
    "### Nanopore signal cleaning"
   ]
  },
  {
   "cell_type": "code",
   "execution_count": 134,
   "id": "1774cda5",
   "metadata": {},
   "outputs": [],
   "source": [
    "from scipy.signal import butter, filtfilt, savgol_filter\n",
    "\n",
    "def clean_signal(signal, fs=4000, cutoff=2):\n",
    "    b, a = butter(2, cutoff/(0.5*fs), btype='high') # high pass filter\n",
    "    signal = filtfilt(b, a, signal) # digital filter\n",
    "    signal = savgol_filter(signal, window_length=11, polyorder=3) # smoothing\n",
    "    return(signal - np.mean(signal)) / np.std(signal) # norming\n"
   ]
  },
  {
   "cell_type": "markdown",
   "id": "4703e8e6",
   "metadata": {},
   "source": [
    "### FFT cross-correlation"
   ]
  },
  {
   "cell_type": "code",
   "execution_count": 50,
   "id": "c8cb557e",
   "metadata": {},
   "outputs": [],
   "source": [
    "import numpy as np\n",
    "\n",
    "def cross_correlation_fft(x, y):\n",
    "    # Ensure equal length\n",
    "    n = len(x) + len(y) - 1\n",
    "    n_padded = 1 << (n - 1).bit_length()  # next power of 2 for efficiency\n",
    "    \n",
    "    # FFT of both signals\n",
    "    X = np.fft.fft(x, n_padded)\n",
    "    Y = np.fft.fft(y, n_padded)\n",
    "    \n",
    "    # Multiply X with conjugate of Y\n",
    "    corr = np.fft.ifft(X * np.conj(Y))\n",
    "    \n",
    "    # Only the real part is meaningful\n",
    "    return np.real(corr)\n"
   ]
  },
  {
   "cell_type": "code",
   "execution_count": 126,
   "id": "f7e05e36",
   "metadata": {},
   "outputs": [
    {
     "name": "stdout",
     "output_type": "stream",
     "text": [
      "[19.64505631 22.0289442  23.93714278 ... 10.06271967 13.57839895\n",
      " 16.83105949]\n"
     ]
    }
   ],
   "source": [
    "a = seq_\n",
    "b = seq_[1000:1160]\n",
    "corr = cross_correlation_fft(a, b)\n",
    "print(corr)\n"
   ]
  },
  {
   "cell_type": "code",
   "execution_count": 127,
   "id": "d8459e43",
   "metadata": {},
   "outputs": [
    {
     "data": {
      "text/plain": [
       "8192"
      ]
     },
     "execution_count": 127,
     "metadata": {},
     "output_type": "execute_result"
    }
   ],
   "source": [
    "len(corr)"
   ]
  },
  {
   "cell_type": "code",
   "execution_count": 128,
   "id": "ec750eec",
   "metadata": {},
   "outputs": [],
   "source": [
    "best_shift = np.argmax(corr)\n",
    "best_similarity = corr[best_shift]\n"
   ]
  },
  {
   "cell_type": "code",
   "execution_count": 129,
   "id": "dc842263",
   "metadata": {},
   "outputs": [
    {
     "data": {
      "text/plain": [
       "np.int64(1000)"
      ]
     },
     "execution_count": 129,
     "metadata": {},
     "output_type": "execute_result"
    }
   ],
   "source": [
    "best_shift"
   ]
  },
  {
   "cell_type": "code",
   "execution_count": 130,
   "id": "728a006e",
   "metadata": {},
   "outputs": [
    {
     "data": {
      "text/plain": [
       "np.float64(209.80250042398234)"
      ]
     },
     "execution_count": 130,
     "metadata": {},
     "output_type": "execute_result"
    }
   ],
   "source": [
    "best_similarity"
   ]
  },
  {
   "cell_type": "code",
   "execution_count": 131,
   "id": "5c282be1",
   "metadata": {},
   "outputs": [],
   "source": [
    "avg_similarity = np.mean(corr)"
   ]
  },
  {
   "cell_type": "code",
   "execution_count": 132,
   "id": "fe8bdb17",
   "metadata": {},
   "outputs": [
    {
     "data": {
      "text/plain": [
       "np.float64(1.4449226843287795)"
      ]
     },
     "execution_count": 132,
     "metadata": {},
     "output_type": "execute_result"
    }
   ],
   "source": [
    "avg_similarity"
   ]
  },
  {
   "cell_type": "code",
   "execution_count": 133,
   "id": "bd34f9cd",
   "metadata": {},
   "outputs": [
    {
     "data": {
      "text/plain": [
       "[<matplotlib.lines.Line2D at 0x19cd3cd55e0>]"
      ]
     },
     "execution_count": 133,
     "metadata": {},
     "output_type": "execute_result"
    },
    {
     "data": {
      "image/png": "[encoded data removed]",
      "text/plain": [
       "<Figure size 640x480 with 1 Axes>"
      ]
     },
     "metadata": {},
     "output_type": "display_data"
    }
   ],
   "source": [
    "plt.plot(corr)"
   ]
  },
  {
   "cell_type": "code",
   "execution_count": 53,
   "id": "d1cec3de",
   "metadata": {},
   "outputs": [
    {
     "data": {
      "text/plain": [
       "256"
      ]
     },
     "execution_count": 53,
     "metadata": {},
     "output_type": "execute_result"
    }
   ],
   "source": [
    "len(corr)"
   ]
  },
  {
   "cell_type": "code",
   "execution_count": 49,
   "id": "355bd851",
   "metadata": {},
   "outputs": [
    {
     "name": "stderr",
     "output_type": "stream",
     "text": [
      "c:\\Users\\Parv\\anaconda3\\envs\\pytorch_gpu\\Lib\\site-packages\\matplotlib\\cbook.py:1762: ComplexWarning: Casting complex values to real discards the imaginary part\n",
      "  return math.isfinite(val)\n",
      "c:\\Users\\Parv\\anaconda3\\envs\\pytorch_gpu\\Lib\\site-packages\\matplotlib\\cbook.py:1398: ComplexWarning: Casting complex values to real discards the imaginary part\n",
      "  return np.asarray(x, float)\n"
     ]
    },
    {
     "data": {
      "text/plain": [
       "[<matplotlib.lines.Line2D at 0x19cd23c92e0>]"
      ]
     },
     "execution_count": 49,
     "metadata": {},
     "output_type": "execute_result"
    },
    {
     "data": {
      "image/png": "[encoded data removed]",
      "text/plain": [
       "<Figure size 640x480 with 1 Axes>"
      ]
     },
     "metadata": {},
     "output_type": "display_data"
    }
   ],
   "source": [
    "plt.plot(seq_i)"
   ]
  },
  {
   "cell_type": "code",
   "execution_count": 40,
   "id": "557717ad",
   "metadata": {},
   "outputs": [
    {
     "data": {
      "text/plain": [
       "array([0.0160789 , 0.01424989, 0.01400421, 0.01457748, 0.0141407 ,\n",
       "       0.01515075, 0.01482316, 0.01498696, 0.01539644, 0.01479587,\n",
       "       0.01539644, 0.01493236, 0.01468667, 0.01444098, 0.01482316,\n",
       "       0.01479587, 0.01504155, 0.01528724, 0.01536914, 0.01482316,\n",
       "       0.0141134 , 0.01465937, 0.01545103, 0.01471397, 0.01435909,\n",
       "       0.01523264, 0.01512345, 0.01539644, 0.01561483, 0.01495966,\n",
       "       0.01848118, 0.02167512, 0.02115645, 0.02123835, 0.02159323,\n",
       "       0.02058318, 0.01935474, 0.0200645 , 0.01943664, 0.02107455,\n",
       "       0.01960043, 0.02047398, 0.02052858, 0.0202283 , 0.02063778,\n",
       "       0.01949123, 0.01954583, 0.02000991, 0.02159323, 0.01913635,\n",
       "       0.01643378, 0.01599701, 0.01648838, 0.01556023, 0.01547833,\n",
       "       0.01591511, 0.01558753, 0.01539644, 0.0161608 , 0.01689786,\n",
       "       0.01657028, 0.01673407, 0.01558753, 0.01591511, 0.01572402,\n",
       "       0.01635189, 0.01738924, 0.01651568, 0.0161062 , 0.01523264,\n",
       "       0.01558753, 0.01566942, 0.01629729, 0.01665217, 0.01768952,\n",
       "       0.01673407, 0.01648838, 0.0161608 , 0.01654298, 0.01725274,\n",
       "       0.01703435, 0.01684326, 0.01662488, 0.01545103, 0.01556023,\n",
       "       0.01504155, 0.01547833, 0.01572402, 0.0161881 , 0.01657028,\n",
       "       0.01717085, 0.01725274, 0.01714355, 0.01695246, 0.01681597,\n",
       "       0.01646108, 0.01771682, 0.01891796, 0.01949123, 0.020201  ])"
      ]
     },
     "execution_count": 40,
     "metadata": {},
     "output_type": "execute_result"
    }
   ],
   "source": [
    "seq_normed[:100]"
   ]
  },
  {
   "cell_type": "code",
   "execution_count": 39,
   "id": "6c07f7db",
   "metadata": {},
   "outputs": [
    {
     "data": {
      "text/plain": [
       "array([0.0160789 +0.00000000e+00j, 0.01424989-5.20417043e-20j,\n",
       "       0.01400421-2.08166817e-19j, 0.01457748-1.73472348e-19j,\n",
       "       0.0141407 +2.08166817e-19j, 0.01515075+2.43797450e-19j,\n",
       "       0.01482316-3.29964013e-20j, 0.01498696+1.84842133e-19j,\n",
       "       0.01539644-4.16333634e-19j, 0.01479587+1.35364636e-19j,\n",
       "       0.01539644-3.77401323e-20j, 0.01493236-3.02876640e-19j,\n",
       "       0.01468667-2.08166817e-19j, 0.01444098-2.84863695e-19j,\n",
       "       0.01482316-2.57162859e-19j, 0.01479587-4.73653798e-19j,\n",
       "       0.01504155+0.00000000e+00j, 0.01528724-1.63687330e-19j,\n",
       "       0.01536914-7.10870072e-20j, 0.01482316-6.75066159e-20j,\n",
       "       0.0141134 -4.07857950e-20j, 0.01465937-2.00839816e-19j,\n",
       "       0.01545103+2.63602701e-19j, 0.01471397+1.38757885e-19j,\n",
       "       0.01435909+7.39553043e-20j, 0.01523264-1.63937435e-19j,\n",
       "       0.01512345-3.24132789e-19j, 0.01539644+6.82436355e-20j,\n",
       "       0.01561483+6.11131875e-21j, 0.01495966-4.23223791e-19j,\n",
       "       0.01848118+2.59766092e-19j, 0.02167512+3.31212045e-19j,\n",
       "       0.02115645+1.37252918e-19j, 0.02123835+2.91481288e-19j,\n",
       "       0.02159323+5.63241786e-19j, 0.02058318+4.73463768e-19j,\n",
       "       0.01935474-3.29964013e-20j, 0.0200645 +1.41396406e-20j,\n",
       "       0.01943664-1.47839576e-20j, 0.02107455+1.13306951e-19j,\n",
       "       0.01960043+6.59928026e-20j, 0.02047398-4.85760675e-21j,\n",
       "       0.02052858+2.88308956e-20j, 0.0202283 -1.76568396e-19j,\n",
       "       0.02063778+1.11139505e-19j, 0.01949123+4.45500518e-19j,\n",
       "       0.01954583+9.49968062e-20j, 0.02000991+2.58551993e-19j,\n",
       "       0.02159323+2.14659002e-19j, 0.01913635+1.46054677e-19j,\n",
       "       0.01643378-2.82952419e-19j, 0.01599701-2.95187388e-20j,\n",
       "       0.01648838+2.81215716e-19j, 0.01556023-4.71933649e-20j,\n",
       "       0.01547833-4.84506143e-19j, 0.01591511-5.67119487e-20j,\n",
       "       0.01558753-2.03928975e-20j, 0.01539644-2.65586745e-19j,\n",
       "       0.0161608 -8.07387308e-20j, 0.01689786-4.81531857e-20j,\n",
       "       0.01657028-6.59928026e-20j, 0.01673407+2.62999681e-20j,\n",
       "       0.01558753-2.32667931e-21j, 0.01591511+2.14100117e-20j,\n",
       "       0.01572402-4.47960491e-19j, 0.01635189-2.45585084e-19j,\n",
       "       0.01738924-5.83122421e-21j, 0.01651568-3.31705578e-19j,\n",
       "       0.0161062 +1.48666200e-19j, 0.01523264+2.43205054e-19j,\n",
       "       0.01558753+3.86603828e-19j, 0.01566942-1.92661919e-19j,\n",
       "       0.01629729-4.09869885e-19j, 0.01665217-1.38961404e-19j,\n",
       "       0.01768952+4.34362779e-20j, 0.01673407+1.86866364e-19j,\n",
       "       0.01648838+2.03928975e-20j, 0.0161608 +4.25498857e-19j,\n",
       "       0.01654298+8.24044493e-20j, 0.01725274-6.85460832e-20j,\n",
       "       0.01703435+4.07857950e-20j, 0.01684326+1.44702985e-19j,\n",
       "       0.01662488-8.19400999e-20j, 0.01545103+1.64004997e-20j,\n",
       "       0.01556023+5.46988640e-20j, 0.01504155-1.01622285e-19j,\n",
       "       0.01547833+1.02981602e-19j, 0.01572402-2.96555605e-19j,\n",
       "       0.0161881 +4.68971138e-20j, 0.01657028-1.18466786e-19j,\n",
       "       0.01717085-4.27641856e-19j, 0.01725274+6.72408350e-20j,\n",
       "       0.01714355+1.99568068e-19j, 0.01695246+1.42997482e-19j,\n",
       "       0.01681597+2.36955426e-19j, 0.01646108+2.77324186e-19j,\n",
       "       0.01771682+3.29964013e-20j, 0.01891796-4.81755092e-20j,\n",
       "       0.01949123+2.49187253e-19j, 0.020201  +8.03105495e-20j])"
      ]
     },
     "execution_count": 39,
     "metadata": {},
     "output_type": "execute_result"
    }
   ],
   "source": [
    "seq_i"
   ]
  },
  {
   "cell_type": "markdown",
   "id": "5980af93",
   "metadata": {},
   "source": [
    "### Helixworks based analysis"
   ]
  },
  {
   "cell_type": "code",
   "execution_count": 140,
   "id": "971bbd7a",
   "metadata": {},
   "outputs": [],
   "source": [
    "import pandas as pd"
   ]
  },
  {
   "cell_type": "code",
   "execution_count": 136,
   "id": "80e7bab6",
   "metadata": {},
   "outputs": [],
   "source": [
    "def reverse_complement(dna):\n",
    "    complement = {'A': 'T', 'T': 'A', 'C': 'G', 'G': 'C'}\n",
    "    return ''.join(complement[base] for base in reversed(dna))"
   ]
  },
  {
   "cell_type": "code",
   "execution_count": 162,
   "id": "06c1181e",
   "metadata": {},
   "outputs": [
    {
     "data": {
      "text/plain": [
       "'GCCTCTTATCCAACACCTTCACCTTACCTACTCAATTCATACTTTCATCC'"
      ]
     },
     "execution_count": 162,
     "metadata": {},
     "output_type": "execute_result"
    }
   ],
   "source": [
    "seqs[4]"
   ]
  },
  {
   "cell_type": "code",
   "execution_count": 137,
   "id": "da3e3c89",
   "metadata": {},
   "outputs": [],
   "source": [
    "# getting rc version of the spacers\n",
    "spacers = [\n",
    "'TTGGATAAGAGGCGTTGGGAGTAAA',\n",
    "'GATTAAGAGGCGTGGATGAAAGTAT',\n",
    "'GAAGAGTGCGTGTGAGATAGATAGG',\n",
    "'TGCGGGTAGGTGAAAGTAGGATGTG',\n",
    "'GTGGAGAAGTGAGTAGGAAAGTAAG',\n",
    "'GTGGTAGTAAGTAGAAGTGTGTGAG',\n",
    "'GCGAATGAAGGGTAGTATATAGGAG',\n",
    "'TTTGTGCGATGGTGGGATGGAAGAA',\n",
    "'GCGGGGATAAAGGTAGAAAAGGTAA',\n",
    "'AGGGATGGAGCTGGGTTGTATGTAA',\n",
    "'ATAGTGTAGTTGGGATGGGCAGAGA'\n",
    "]\n",
    "\n",
    "rev_spacers = [reverse_complement(i) for i in spacers]"
   ]
  },
  {
   "cell_type": "code",
   "execution_count": 164,
   "id": "b42d78a7",
   "metadata": {},
   "outputs": [
    {
     "data": {
      "text/plain": [
       "25"
      ]
     },
     "execution_count": 164,
     "metadata": {},
     "output_type": "execute_result"
    }
   ],
   "source": [
    "len(spacers[0])"
   ]
  },
  {
   "cell_type": "code",
   "execution_count": 163,
   "id": "a2dea8aa",
   "metadata": {},
   "outputs": [
    {
     "data": {
      "text/plain": [
       "['TTTACTCCCAACGCCTCTTATCCAA',\n",
       " 'ATACTTTCATCCACGCCTCTTAATC',\n",
       " 'CCTATCTATCTCACACGCACTCTTC',\n",
       " 'CACATCCTACTTTCACCTACCCGCA',\n",
       " 'CTTACTTTCCTACTCACTTCTCCAC',\n",
       " 'CTCACACACTTCTACTTACTACCAC',\n",
       " 'CTCCTATATACTACCCTTCATTCGC',\n",
       " 'TTCTTCCATCCCACCATCGCACAAA',\n",
       " 'TTACCTTTTCTACCTTTATCCCCGC',\n",
       " 'TTACATACAACCCAGCTCCATCCCT',\n",
       " 'TCTCTGCCCATCCCAACTACACTAT']"
      ]
     },
     "execution_count": 163,
     "metadata": {},
     "output_type": "execute_result"
    }
   ],
   "source": [
    "rev_spacers"
   ]
  },
  {
   "cell_type": "code",
   "execution_count": 141,
   "id": "78ff1126",
   "metadata": {},
   "outputs": [
    {
     "name": "stderr",
     "output_type": "stream",
     "text": [
      "<>:1: SyntaxWarning: invalid escape sequence '\\c'\n",
      "<>:1: SyntaxWarning: invalid escape sequence '\\c'\n",
      "C:\\Users\\Parv\\AppData\\Local\\Temp\\ipykernel_8940\\1094912200.py:1: SyntaxWarning: invalid escape sequence '\\c'\n",
      "  library_df = pd.read_csv(\"data\\completed_library.csv\")\n"
     ]
    }
   ],
   "source": [
    "library_df = pd.read_csv(\"data\\completed_library.csv\")"
   ]
  },
  {
   "cell_type": "code",
   "execution_count": 143,
   "id": "7cdd4a12",
   "metadata": {},
   "outputs": [],
   "source": [
    "seqs = library_df['Sequence']"
   ]
  },
  {
   "cell_type": "code",
   "execution_count": 156,
   "id": "af7757d3",
   "metadata": {},
   "outputs": [
    {
     "data": {
      "text/plain": [
       "11"
      ]
     },
     "execution_count": 156,
     "metadata": {},
     "output_type": "execute_result"
    }
   ],
   "source": [
    "len(rev_spacers)"
   ]
  },
  {
   "cell_type": "markdown",
   "id": "a84e8fd5",
   "metadata": {},
   "source": [
    "1 + 8 (per motif type) * 10 (per cycle)"
   ]
  },
  {
   "cell_type": "code",
   "execution_count": 199,
   "id": "9f2b3d0c",
   "metadata": {},
   "outputs": [
    {
     "name": "stdout",
     "output_type": "stream",
     "text": [
      "ACTTACCCGCTACTTTCATCACTAATTTACTCCCAAC\n",
      "GCCTCTTATCCAAAAAAAAAAAAAAAAAAAAAAAAAAAATACTTTCATCC\n",
      "\n",
      "GCCTCTTATCCAAAACAACATCAATCCTACATCGCCTAATACTTTCATCC\n",
      "GCCTCTTATCCAAAAAAAAAAAAAAAAAAAAAAAAAAAATACTTTCATCC\n",
      "\n",
      "GCCTCTTATCCAAATATACCTCGCCTCATCTCAATCAAATACTTTCATCC\n",
      "GCCTCTTATCCAAAAAAAAAAAAAAAAAAAAAAAAAAAATACTTTCATCC\n",
      "\n",
      "GCCTCTTATCCAATTTCACTTCTTATCCGCCTCACCTAATACTTTCATCC\n",
      "GCCTCTTATCCAAAAAAAAAAAAAAAAAAAAAAAAAAAATACTTTCATCC\n",
      "\n",
      "GCCTCTTATCCAACACCTTCACCTTACCTACTCAATTCATACTTTCATCC\n",
      "GCCTCTTATCCAAAAAAAAAAAAAAAAAAAAAAAAAAAATACTTTCATCC\n",
      "\n",
      "GCCTCTTATCCAACAACCCTCTATCCGCCTCTCCACTAATACTTTCATCC\n",
      "GCCTCTTATCCAAAAAAAAAAAAAAAAAAAAAAAAAAAATACTTTCATCC\n",
      "\n",
      "GCCTCTTATCCAAAACCCATCACTTACCTCTCTTAACAATACTTTCATCC\n",
      "GCCTCTTATCCAAAAAAAAAAAAAAAAAAAAAAAAAAAATACTTTCATCC\n",
      "\n",
      "GCCTCTTATCCAACCATCCATATCATTTTCTCCTTACCATACTTTCATCC\n",
      "GCCTCTTATCCAAAAAAAAAAAAAAAAAAAAAAAAAAAATACTTTCATCC\n",
      "\n",
      "GCCTCTTATCCAACCACATCTACCCTTCCACTCTATCAATACTTTCATCC\n",
      "GCCTCTTATCCAAAAAAAAAAAAAAAAAAAAAAAAAAAATACTTTCATCC\n",
      "\n",
      "ACGCCTCTTAATCAACAACATCAATCCTACATCGCCTACCTATCTATCTC\n",
      "ACGCCTCTTAATCAAAAAAAAAAAAAAAAAAAAAAAAACCTATCTATCTC\n",
      "\n",
      "ACGCCTCTTAATCATATACCTCGCCTCATCTCAATCAACCTATCTATCTC\n",
      "ACGCCTCTTAATCAAAAAAAAAAAAAAAAAAAAAAAAACCTATCTATCTC\n",
      "\n",
      "ACGCCTCTTAATCTTTCACTTCTTATCCGCCTCACCTACCTATCTATCTC\n",
      "ACGCCTCTTAATCAAAAAAAAAAAAAAAAAAAAAAAAACCTATCTATCTC\n",
      "\n",
      "ACGCCTCTTAATCCACCTTCACCTTACCTACTCAATTCCCTATCTATCTC\n",
      "ACGCCTCTTAATCAAAAAAAAAAAAAAAAAAAAAAAAACCTATCTATCTC\n",
      "\n",
      "ACGCCTCTTAATCCAACCCTCTATCCGCCTCTCCACTACCTATCTATCTC\n",
      "ACGCCTCTTAATCAAAAAAAAAAAAAAAAAAAAAAAAACCTATCTATCTC\n",
      "\n",
      "ACGCCTCTTAATCAACCCATCACTTACCTCTCTTAACACCTATCTATCTC\n",
      "ACGCCTCTTAATCAAAAAAAAAAAAAAAAAAAAAAAAACCTATCTATCTC\n",
      "\n",
      "ACGCCTCTTAATCCCATCCATATCATTTTCTCCTTACCCCTATCTATCTC\n",
      "ACGCCTCTTAATCAAAAAAAAAAAAAAAAAAAAAAAAACCTATCTATCTC\n",
      "\n",
      "ACGCCTCTTAATCCCACATCTACCCTTCCACTCTATCACCTATCTATCTC\n",
      "ACGCCTCTTAATCAAAAAAAAAAAAAAAAAAAAAAAAACCTATCTATCTC\n",
      "\n",
      "ACACGCACTCTTCAACAACATCAATCCTACATCGCCTACACATCCTACTT\n",
      "ACACGCACTCTTCAAAAAAAAAAAAAAAAAAAAAAAAACACATCCTACTT\n",
      "\n",
      "ACACGCACTCTTCATATACCTCGCCTCATCTCAATCAACACATCCTACTT\n",
      "ACACGCACTCTTCAAAAAAAAAAAAAAAAAAAAAAAAACACATCCTACTT\n",
      "\n",
      "ACACGCACTCTTCTTTCACTTCTTATCCGCCTCACCTACACATCCTACTT\n",
      "ACACGCACTCTTCAAAAAAAAAAAAAAAAAAAAAAAAACACATCCTACTT\n",
      "\n",
      "ACACGCACTCTTCCACCTTCACCTTACCTACTCAATTCCACATCCTACTT\n",
      "ACACGCACTCTTCAAAAAAAAAAAAAAAAAAAAAAAAACACATCCTACTT\n",
      "\n",
      "ACACGCACTCTTCCAACCCTCTATCCGCCTCTCCACTACACATCCTACTT\n",
      "ACACGCACTCTTCAAAAAAAAAAAAAAAAAAAAAAAAACACATCCTACTT\n",
      "\n",
      "ACACGCACTCTTCAACCCATCACTTACCTCTCTTAACACACATCCTACTT\n",
      "ACACGCACTCTTCAAAAAAAAAAAAAAAAAAAAAAAAACACATCCTACTT\n",
      "\n",
      "ACACGCACTCTTCCCATCCATATCATTTTCTCCTTACCCACATCCTACTT\n",
      "ACACGCACTCTTCAAAAAAAAAAAAAAAAAAAAAAAAACACATCCTACTT\n",
      "\n",
      "ACACGCACTCTTCCCACATCTACCCTTCCACTCTATCACACATCCTACTT\n",
      "ACACGCACTCTTCAAAAAAAAAAAAAAAAAAAAAAAAACACATCCTACTT\n",
      "\n",
      "TCACCTACCCGCAAACAACATCAATCCTACATCGCCTACTTACTTTCCTA\n",
      "TCACCTACCCGCAAAAAAAAAAAAAAAAAAAAAAAAAACTTACTTTCCTA\n",
      "\n",
      "TCACCTACCCGCAATATACCTCGCCTCATCTCAATCAACTTACTTTCCTA\n",
      "TCACCTACCCGCAAAAAAAAAAAAAAAAAAAAAAAAAACTTACTTTCCTA\n",
      "\n",
      "TCACCTACCCGCATTTCACTTCTTATCCGCCTCACCTACTTACTTTCCTA\n",
      "TCACCTACCCGCAAAAAAAAAAAAAAAAAAAAAAAAAACTTACTTTCCTA\n",
      "\n",
      "TCACCTACCCGCACACCTTCACCTTACCTACTCAATTCCTTACTTTCCTA\n",
      "TCACCTACCCGCAAAAAAAAAAAAAAAAAAAAAAAAAACTTACTTTCCTA\n",
      "\n",
      "TCACCTACCCGCACAACCCTCTATCCGCCTCTCCACTACTTACTTTCCTA\n",
      "TCACCTACCCGCAAAAAAAAAAAAAAAAAAAAAAAAAACTTACTTTCCTA\n",
      "\n",
      "TCACCTACCCGCAAACCCATCACTTACCTCTCTTAACACTTACTTTCCTA\n",
      "TCACCTACCCGCAAAAAAAAAAAAAAAAAAAAAAAAAACTTACTTTCCTA\n",
      "\n",
      "TCACCTACCCGCACCATCCATATCATTTTCTCCTTACCCTTACTTTCCTA\n",
      "TCACCTACCCGCAAAAAAAAAAAAAAAAAAAAAAAAAACTTACTTTCCTA\n",
      "\n",
      "TCACCTACCCGCACCACATCTACCCTTCCACTCTATCACTTACTTTCCTA\n",
      "TCACCTACCCGCAAAAAAAAAAAAAAAAAAAAAAAAAACTTACTTTCCTA\n",
      "\n",
      "CTCACTTCTCCACAACAACATCAATCCTACATCGCCTACTCACACACTTC\n",
      "CTCACTTCTCCACAAAAAAAAAAAAAAAAAAAAAAAAACTCACACACTTC\n",
      "\n",
      "CTCACTTCTCCACATATACCTCGCCTCATCTCAATCAACTCACACACTTC\n",
      "CTCACTTCTCCACAAAAAAAAAAAAAAAAAAAAAAAAACTCACACACTTC\n",
      "\n",
      "CTCACTTCTCCACTTTCACTTCTTATCCGCCTCACCTACTCACACACTTC\n",
      "CTCACTTCTCCACAAAAAAAAAAAAAAAAAAAAAAAAACTCACACACTTC\n",
      "\n",
      "CTCACTTCTCCACCACCTTCACCTTACCTACTCAATTCCTCACACACTTC\n",
      "CTCACTTCTCCACAAAAAAAAAAAAAAAAAAAAAAAAACTCACACACTTC\n",
      "\n",
      "CTCACTTCTCCACCAACCCTCTATCCGCCTCTCCACTACTCACACACTTC\n",
      "CTCACTTCTCCACAAAAAAAAAAAAAAAAAAAAAAAAACTCACACACTTC\n",
      "\n",
      "CTCACTTCTCCACAACCCATCACTTACCTCTCTTAACACTCACACACTTC\n",
      "CTCACTTCTCCACAAAAAAAAAAAAAAAAAAAAAAAAACTCACACACTTC\n",
      "\n",
      "CTCACTTCTCCACCCATCCATATCATTTTCTCCTTACCCTCACACACTTC\n",
      "CTCACTTCTCCACAAAAAAAAAAAAAAAAAAAAAAAAACTCACACACTTC\n",
      "\n",
      "CTCACTTCTCCACCCACATCTACCCTTCCACTCTATCACTCACACACTTC\n",
      "CTCACTTCTCCACAAAAAAAAAAAAAAAAAAAAAAAAACTCACACACTTC\n",
      "\n",
      "TACTTACTACCACAACAACATCAATCCTACATCGCCTACTCCTATATACT\n",
      "TACTTACTACCACAAAAAAAAAAAAAAAAAAAAAAAAACTCCTATATACT\n",
      "\n",
      "TACTTACTACCACATATACCTCGCCTCATCTCAATCAACTCCTATATACT\n",
      "TACTTACTACCACAAAAAAAAAAAAAAAAAAAAAAAAACTCCTATATACT\n",
      "\n",
      "TACTTACTACCACTTTCACTTCTTATCCGCCTCACCTACTCCTATATACT\n",
      "TACTTACTACCACAAAAAAAAAAAAAAAAAAAAAAAAACTCCTATATACT\n",
      "\n",
      "TACTTACTACCACCACCTTCACCTTACCTACTCAATTCCTCCTATATACT\n",
      "TACTTACTACCACAAAAAAAAAAAAAAAAAAAAAAAAACTCCTATATACT\n",
      "\n",
      "TACTTACTACCACCAACCCTCTATCCGCCTCTCCACTACTCCTATATACT\n",
      "TACTTACTACCACAAAAAAAAAAAAAAAAAAAAAAAAACTCCTATATACT\n",
      "\n",
      "TACTTACTACCACAACCCATCACTTACCTCTCTTAACACTCCTATATACT\n",
      "TACTTACTACCACAAAAAAAAAAAAAAAAAAAAAAAAACTCCTATATACT\n",
      "\n",
      "TACTTACTACCACCCATCCATATCATTTTCTCCTTACCCTCCTATATACT\n",
      "TACTTACTACCACAAAAAAAAAAAAAAAAAAAAAAAAACTCCTATATACT\n",
      "\n",
      "TACTTACTACCACCCACATCTACCCTTCCACTCTATCACTCCTATATACT\n",
      "TACTTACTACCACAAAAAAAAAAAAAAAAAAAAAAAAACTCCTATATACT\n",
      "\n",
      "ACCCTTCATTCGCAACAACATCAATCCTACATCGCCTATTCTTCCATCCC\n",
      "ACCCTTCATTCGCAAAAAAAAAAAAAAAAAAAAAAAAATTCTTCCATCCC\n",
      "\n",
      "ACCCTTCATTCGCATATACCTCGCCTCATCTCAATCAATTCTTCCATCCC\n",
      "ACCCTTCATTCGCAAAAAAAAAAAAAAAAAAAAAAAAATTCTTCCATCCC\n",
      "\n",
      "ACCCTTCATTCGCTTTCACTTCTTATCCGCCTCACCTATTCTTCCATCCC\n",
      "ACCCTTCATTCGCAAAAAAAAAAAAAAAAAAAAAAAAATTCTTCCATCCC\n",
      "\n",
      "ACCCTTCATTCGCCACCTTCACCTTACCTACTCAATTCTTCTTCCATCCC\n",
      "ACCCTTCATTCGCAAAAAAAAAAAAAAAAAAAAAAAAATTCTTCCATCCC\n",
      "\n",
      "ACCCTTCATTCGCCAACCCTCTATCCGCCTCTCCACTATTCTTCCATCCC\n",
      "ACCCTTCATTCGCAAAAAAAAAAAAAAAAAAAAAAAAATTCTTCCATCCC\n",
      "\n",
      "ACCCTTCATTCGCAACCCATCACTTACCTCTCTTAACATTCTTCCATCCC\n",
      "ACCCTTCATTCGCAAAAAAAAAAAAAAAAAAAAAAAAATTCTTCCATCCC\n",
      "\n",
      "ACCCTTCATTCGCCCATCCATATCATTTTCTCCTTACCTTCTTCCATCCC\n",
      "ACCCTTCATTCGCAAAAAAAAAAAAAAAAAAAAAAAAATTCTTCCATCCC\n",
      "\n",
      "ACCCTTCATTCGCCCACATCTACCCTTCCACTCTATCATTCTTCCATCCC\n",
      "ACCCTTCATTCGCAAAAAAAAAAAAAAAAAAAAAAAAATTCTTCCATCCC\n",
      "\n",
      "ACCATCGCACAAAAACAACATCAATCCTACATCGCCTATTACCTTTTCTA\n",
      "ACCATCGCACAAAAAAAAAAAAAAAAAAAAAAAAAAAATTACCTTTTCTA\n",
      "\n",
      "ACCATCGCACAAAATATACCTCGCCTCATCTCAATCAATTACCTTTTCTA\n",
      "ACCATCGCACAAAAAAAAAAAAAAAAAAAAAAAAAAAATTACCTTTTCTA\n",
      "\n",
      "ACCATCGCACAAATTTCACTTCTTATCCGCCTCACCTATTACCTTTTCTA\n",
      "ACCATCGCACAAAAAAAAAAAAAAAAAAAAAAAAAAAATTACCTTTTCTA\n",
      "\n",
      "ACCATCGCACAAACACCTTCACCTTACCTACTCAATTCTTACCTTTTCTA\n",
      "ACCATCGCACAAAAAAAAAAAAAAAAAAAAAAAAAAAATTACCTTTTCTA\n",
      "\n",
      "ACCATCGCACAAACAACCCTCTATCCGCCTCTCCACTATTACCTTTTCTA\n",
      "ACCATCGCACAAAAAAAAAAAAAAAAAAAAAAAAAAAATTACCTTTTCTA\n",
      "\n",
      "ACCATCGCACAAAAACCCATCACTTACCTCTCTTAACATTACCTTTTCTA\n",
      "ACCATCGCACAAAAAAAAAAAAAAAAAAAAAAAAAAAATTACCTTTTCTA\n",
      "\n",
      "ACCATCGCACAAACCATCCATATCATTTTCTCCTTACCTTACCTTTTCTA\n",
      "ACCATCGCACAAAAAAAAAAAAAAAAAAAAAAAAAAAATTACCTTTTCTA\n",
      "\n",
      "ACCATCGCACAAACCACATCTACCCTTCCACTCTATCATTACCTTTTCTA\n",
      "ACCATCGCACAAAAAAAAAAAAAAAAAAAAAAAAAAAATTACCTTTTCTA\n",
      "\n",
      "CCTTTATCCCCGCAACAACATCAATCCTACATCGCCTATTACATACAACC\n",
      "CCTTTATCCCCGCAAAAAAAAAAAAAAAAAAAAAAAAATTACATACAACC\n",
      "\n",
      "CCTTTATCCCCGCATATACCTCGCCTCATCTCAATCAATTACATACAACC\n",
      "CCTTTATCCCCGCAAAAAAAAAAAAAAAAAAAAAAAAATTACATACAACC\n",
      "\n",
      "CCTTTATCCCCGCTTTCACTTCTTATCCGCCTCACCTATTACATACAACC\n",
      "CCTTTATCCCCGCAAAAAAAAAAAAAAAAAAAAAAAAATTACATACAACC\n",
      "\n",
      "CCTTTATCCCCGCCACCTTCACCTTACCTACTCAATTCTTACATACAACC\n",
      "CCTTTATCCCCGCAAAAAAAAAAAAAAAAAAAAAAAAATTACATACAACC\n",
      "\n",
      "CCTTTATCCCCGCCAACCCTCTATCCGCCTCTCCACTATTACATACAACC\n",
      "CCTTTATCCCCGCAAAAAAAAAAAAAAAAAAAAAAAAATTACATACAACC\n",
      "\n",
      "CCTTTATCCCCGCAACCCATCACTTACCTCTCTTAACATTACATACAACC\n",
      "CCTTTATCCCCGCAAAAAAAAAAAAAAAAAAAAAAAAATTACATACAACC\n",
      "\n",
      "CCTTTATCCCCGCCCATCCATATCATTTTCTCCTTACCTTACATACAACC\n",
      "CCTTTATCCCCGCAAAAAAAAAAAAAAAAAAAAAAAAATTACATACAACC\n",
      "\n",
      "CCTTTATCCCCGCCCACATCTACCCTTCCACTCTATCATTACATACAACC\n",
      "CCTTTATCCCCGCAAAAAAAAAAAAAAAAAAAAAAAAATTACATACAACC\n",
      "\n",
      "CAGCTCCATCCCTAACAACATCAATCCTACATCGCCTATCTCTGCCCATC\n",
      "CAGCTCCATCCCTAAAAAAAAAAAAAAAAAAAAAAAAATCTCTGCCCATC\n",
      "\n",
      "CAGCTCCATCCCTATATACCTCGCCTCATCTCAATCAATCTCTGCCCATC\n",
      "CAGCTCCATCCCTAAAAAAAAAAAAAAAAAAAAAAAAATCTCTGCCCATC\n",
      "\n",
      "CAGCTCCATCCCTTTTCACTTCTTATCCGCCTCACCTATCTCTGCCCATC\n",
      "CAGCTCCATCCCTAAAAAAAAAAAAAAAAAAAAAAAAATCTCTGCCCATC\n",
      "\n",
      "CAGCTCCATCCCTCACCTTCACCTTACCTACTCAATTCTCTCTGCCCATC\n",
      "CAGCTCCATCCCTAAAAAAAAAAAAAAAAAAAAAAAAATCTCTGCCCATC\n",
      "\n",
      "CAGCTCCATCCCTCAACCCTCTATCCGCCTCTCCACTATCTCTGCCCATC\n",
      "CAGCTCCATCCCTAAAAAAAAAAAAAAAAAAAAAAAAATCTCTGCCCATC\n",
      "\n",
      "CAGCTCCATCCCTAACCCATCACTTACCTCTCTTAACATCTCTGCCCATC\n",
      "CAGCTCCATCCCTAAAAAAAAAAAAAAAAAAAAAAAAATCTCTGCCCATC\n",
      "\n",
      "CAGCTCCATCCCTCCATCCATATCATTTTCTCCTTACCTCTCTGCCCATC\n",
      "CAGCTCCATCCCTAAAAAAAAAAAAAAAAAAAAAAAAATCTCTGCCCATC\n",
      "\n",
      "CAGCTCCATCCCTCCACATCTACCCTTCCACTCTATCATCTCTGCCCATC\n",
      "CAGCTCCATCCCTAAAAAAAAAAAAAAAAAAAAAAAAATCTCTGCCCATC\n",
      "\n"
     ]
    }
   ],
   "source": [
    "for ptr, seq in enumerate(seqs[:-1]):\n",
    "    if ptr == 0:\n",
    "        cycle_position = 0\n",
    "    else:\n",
    "        cycle_position = int((ptr - 1) / 8)\n",
    "\n",
    "    print(seq)\n",
    "    print(rev_spacers[cycle_position][12:] + \"A\"*25 + rev_spacers[cycle_position+1][:12])\n",
    "    print()\n",
    "    #print(rev_spacers[cycle_position][12:] + \"A\"*25 + rev_spacers[cycle_position+1][13:])\n",
    "    \"\"\"\n",
    "    for i, j in zip(rev_spacers, spacers):\n",
    "        if i[12:] in seq:\n",
    "            print(seq)\n",
    "            print(i[12:] + \"A\"*25 + i[:12])\n",
    "            print(i[:12])\n",
    "            print(j)\n",
    "        #if j[12:] in seq:\n",
    "        #    print(j)\n",
    "    \"\"\""
   ]
  },
  {
   "cell_type": "code",
   "execution_count": null,
   "id": "87951238",
   "metadata": {},
   "outputs": [],
   "source": []
  },
  {
   "cell_type": "code",
   "execution_count": 170,
   "id": "e58eb807",
   "metadata": {},
   "outputs": [
    {
     "data": {
      "text/plain": [
       "12"
      ]
     },
     "execution_count": 170,
     "metadata": {},
     "output_type": "execute_result"
    }
   ],
   "source": [
    "len(i[:12])"
   ]
  },
  {
   "cell_type": "code",
   "execution_count": 202,
   "id": "183a3e37",
   "metadata": {},
   "outputs": [],
   "source": [
    "_, data = get_data_from_fast5(r\"C:\\Users\\Parv\\Doc\\HelixWorks\\Basecalling\\squigulator\\slow5tools-v1.1.0\\testing.fast5\")"
   ]
  },
  {
   "cell_type": "code",
   "execution_count": 208,
   "id": "fd968b0a",
   "metadata": {},
   "outputs": [],
   "source": [
    "spacer_rep = clean_signal(data[0])"
   ]
  },
  {
   "cell_type": "code",
   "execution_count": 211,
   "id": "6837fd39",
   "metadata": {},
   "outputs": [
    {
     "data": {
      "text/plain": [
       "array([-0.34175079,  0.28403577,  0.48928728,  0.37105904,  0.02640637,\n",
       "       -0.44761543, -0.80212075, -1.18100492, -1.54186915, -1.66940343,\n",
       "       -1.57556942, -1.42096139, -1.32495915, -1.30378793, -1.37616003,\n",
       "       -1.42222192, -1.42124795, -1.48539353, -1.66972971, -1.51722605,\n",
       "       -1.07667668, -0.41428528,  0.41890381,  1.06842258,  1.37912463,\n",
       "        1.58988803,  1.48291569,  1.06057625,  0.43620947,  0.15886774,\n",
       "        0.07743136,  0.1466592 ,  0.33694316,  0.43676307,  0.46862106,\n",
       "        0.50997192,  0.54802493,  0.62588947,  0.62844931,  0.6701101 ,\n",
       "        0.68620776,  0.75514453,  0.8205466 ,  0.80069564,  0.91978411,\n",
       "        1.00632196,  1.05646013,  1.04526862,  0.94781742,  0.73917651])"
      ]
     },
     "execution_count": 211,
     "metadata": {},
     "output_type": "execute_result"
    }
   ],
   "source": [
    "spacer_rep"
   ]
  },
  {
   "cell_type": "code",
   "execution_count": 215,
   "id": "107c2464",
   "metadata": {},
   "outputs": [],
   "source": [
    "corr = cross_correlation_fft(seq_, spacer_rep)"
   ]
  },
  {
   "cell_type": "code",
   "execution_count": 214,
   "id": "839549be",
   "metadata": {},
   "outputs": [
    {
     "data": {
      "text/plain": [
       "[<matplotlib.lines.Line2D at 0x19cd6e4a5a0>]"
      ]
     },
     "execution_count": 214,
     "metadata": {},
     "output_type": "execute_result"
    },
    {
     "data": {
      "image/png": "[encoded data removed]",
      "text/plain": [
       "<Figure size 640x480 with 1 Axes>"
      ]
     },
     "metadata": {},
     "output_type": "display_data"
    }
   ],
   "source": [
    "plt.plot(cr)"
   ]
  },
  {
   "cell_type": "code",
   "execution_count": 216,
   "id": "5091646e",
   "metadata": {},
   "outputs": [],
   "source": [
    "best_shift = np.argmax(corr)\n",
    "best_similarity = corr[best_shift]\n"
   ]
  },
  {
   "cell_type": "code",
   "execution_count": 217,
   "id": "40d32f57",
   "metadata": {},
   "outputs": [
    {
     "data": {
      "text/plain": [
       "np.int64(3999)"
      ]
     },
     "execution_count": 217,
     "metadata": {},
     "output_type": "execute_result"
    }
   ],
   "source": [
    "best_shift"
   ]
  },
  {
   "cell_type": "code",
   "execution_count": null,
   "id": "10be65fe",
   "metadata": {},
   "outputs": [],
   "source": []
  }
 ],
 "metadata": {
  "kernelspec": {
   "display_name": "pytorch_gpu",
   "language": "python",
   "name": "python3"
  },
  "language_info": {
   "codemirror_mode": {
    "name": "ipython",
    "version": 3
   },
   "file_extension": ".py",
   "mimetype": "text/x-python",
   "name": "python",
   "nbconvert_exporter": "python",
   "pygments_lexer": "ipython3",
   "version": "3.12.3"
  }
 },
 "nbformat": 4,
 "nbformat_minor": 5
}
