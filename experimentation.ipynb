{
 "cells": [
  {
   "cell_type": "markdown",
   "id": "eacf1ec6",
   "metadata": {},
   "source": [
    "### Testing basic convolution, fft, scoring metric for subsequence existence"
   ]
  },
  {
   "cell_type": "code",
   "execution_count": 18,
   "id": "cfef8a33",
   "metadata": {},
   "outputs": [],
   "source": [
    "from scipy.fft import fft, ifft\n",
    "import numpy as np\n",
    "import matplotlib.pyplot as plt\n",
    "from sklearn.preprocessing import normalize"
   ]
  },
  {
   "cell_type": "code",
   "execution_count": 19,
   "id": "82bcdfb3",
   "metadata": {},
   "outputs": [],
   "source": [
    "from ont_fast5_api.fast5_interface import get_fast5_file"
   ]
  },
  {
   "cell_type": "markdown",
   "id": "4dd3d748",
   "metadata": {},
   "source": [
    "### Data extraction from f5"
   ]
  },
  {
   "cell_type": "code",
   "execution_count": 20,
   "id": "acbe86e1",
   "metadata": {},
   "outputs": [],
   "source": [
    "def get_data_from_fast5(fast5_filepath):\n",
    "    data_arr = []\n",
    "    read_ids = []\n",
    "    with get_fast5_file(fast5_filepath, mode=\"r\") as f5:\n",
    "        for read in f5.get_reads():\n",
    "            raw_data = read.get_raw_data()\n",
    "            read_ids.append(read.read_id)\n",
    "            data_arr.append(raw_data)\n",
    "    return read_ids, data_arr"
   ]
  },
  {
   "cell_type": "code",
   "execution_count": 4,
   "id": "f4161a29",
   "metadata": {},
   "outputs": [],
   "source": [
    "f5_filepath = r\"data\\FAW71953_6c8b1e8d_944d09f0_2.fast5\"\n",
    "_, data_arr = get_data_from_fast5(f5_filepath)"
   ]
  },
  {
   "cell_type": "markdown",
   "id": "84dd320c",
   "metadata": {},
   "source": [
    "### Nanopore signal cleaning"
   ]
  },
  {
   "cell_type": "code",
   "execution_count": 21,
   "id": "1774cda5",
   "metadata": {},
   "outputs": [],
   "source": [
    "from scipy.signal import butter, filtfilt, savgol_filter\n",
    "\n",
    "def clean_signal(signal, fs=4000, cutoff=2):\n",
    "    b, a = butter(2, cutoff/(0.5*fs), btype='high') # high pass filter\n",
    "    signal = filtfilt(b, a, signal) # digital filter\n",
    "    signal = savgol_filter(signal, window_length=11, polyorder=3) # smoothing\n",
    "    return(signal - np.mean(signal)) / np.std(signal) # norming\n"
   ]
  },
  {
   "cell_type": "markdown",
   "id": "4703e8e6",
   "metadata": {},
   "source": [
    "### FFT cross-correlation"
   ]
  },
  {
   "cell_type": "code",
   "execution_count": 22,
   "id": "c8cb557e",
   "metadata": {},
   "outputs": [],
   "source": [
    "import numpy as np\n",
    "\n",
    "def cross_correlation_fft(x, y):\n",
    "    # Ensure equal length\n",
    "    n = len(x) + len(y) - 1\n",
    "    n_padded = 1 << (n - 1).bit_length()  # next power of 2 for efficiency\n",
    "    \n",
    "    # FFT of both signals\n",
    "    X = np.fft.fft(x, n_padded)\n",
    "    Y = np.fft.fft(y, n_padded)\n",
    "    \n",
    "    # Multiply X with conjugate of Y\n",
    "    corr = np.fft.ifft(X * np.conj(Y))\n",
    "    \n",
    "    # Only the real part is meaningful\n",
    "    return np.real(corr)\n"
   ]
  },
  {
   "cell_type": "markdown",
   "id": "5980af93",
   "metadata": {},
   "source": [
    "### Helixworks based analysis"
   ]
  },
  {
   "cell_type": "code",
   "execution_count": 7,
   "id": "971bbd7a",
   "metadata": {},
   "outputs": [],
   "source": [
    "import pandas as pd"
   ]
  },
  {
   "cell_type": "code",
   "execution_count": 8,
   "id": "80e7bab6",
   "metadata": {},
   "outputs": [],
   "source": [
    "def reverse_complement(dna):\n",
    "    complement = {'A': 'T', 'T': 'A', 'C': 'G', 'G': 'C'}\n",
    "    return ''.join(complement[base] for base in reversed(dna))"
   ]
  },
  {
   "cell_type": "code",
   "execution_count": 9,
   "id": "da3e3c89",
   "metadata": {},
   "outputs": [],
   "source": [
    "# getting rc version of the spacers\n",
    "spacers = [\n",
    "'TTGGATAAGAGGCGTTGGGAGTAAA',\n",
    "'GATTAAGAGGCGTGGATGAAAGTAT',\n",
    "'GAAGAGTGCGTGTGAGATAGATAGG',\n",
    "'TGCGGGTAGGTGAAAGTAGGATGTG',\n",
    "'GTGGAGAAGTGAGTAGGAAAGTAAG',\n",
    "'GTGGTAGTAAGTAGAAGTGTGTGAG',\n",
    "'GCGAATGAAGGGTAGTATATAGGAG',\n",
    "'TTTGTGCGATGGTGGGATGGAAGAA',\n",
    "'GCGGGGATAAAGGTAGAAAAGGTAA',\n",
    "'AGGGATGGAGCTGGGTTGTATGTAA',\n",
    "'ATAGTGTAGTTGGGATGGGCAGAGA'\n",
    "]\n",
    "\n",
    "rev_spacers = [reverse_complement(i) for i in spacers]"
   ]
  },
  {
   "cell_type": "code",
   "execution_count": 10,
   "id": "b42d78a7",
   "metadata": {},
   "outputs": [
    {
     "data": {
      "text/plain": [
       "25"
      ]
     },
     "execution_count": 10,
     "metadata": {},
     "output_type": "execute_result"
    }
   ],
   "source": [
    "len(spacers[0])"
   ]
  },
  {
   "cell_type": "code",
   "execution_count": 11,
   "id": "a2dea8aa",
   "metadata": {},
   "outputs": [
    {
     "data": {
      "text/plain": [
       "['TTTACTCCCAACGCCTCTTATCCAA',\n",
       " 'ATACTTTCATCCACGCCTCTTAATC',\n",
       " 'CCTATCTATCTCACACGCACTCTTC',\n",
       " 'CACATCCTACTTTCACCTACCCGCA',\n",
       " 'CTTACTTTCCTACTCACTTCTCCAC',\n",
       " 'CTCACACACTTCTACTTACTACCAC',\n",
       " 'CTCCTATATACTACCCTTCATTCGC',\n",
       " 'TTCTTCCATCCCACCATCGCACAAA',\n",
       " 'TTACCTTTTCTACCTTTATCCCCGC',\n",
       " 'TTACATACAACCCAGCTCCATCCCT',\n",
       " 'TCTCTGCCCATCCCAACTACACTAT']"
      ]
     },
     "execution_count": 11,
     "metadata": {},
     "output_type": "execute_result"
    }
   ],
   "source": [
    "rev_spacers"
   ]
  },
  {
   "cell_type": "code",
   "execution_count": 129,
   "id": "78ff1126",
   "metadata": {},
   "outputs": [],
   "source": [
    "library_df = pd.read_csv(r\"C:\\Users\\Parv\\Doc\\RA\\Projects\\DSP\\data\\motif_design_sequences.csv\")"
   ]
  },
  {
   "cell_type": "code",
   "execution_count": 133,
   "id": "45f44501",
   "metadata": {},
   "outputs": [
    {
     "data": {
      "text/html": [
       "<div>\n",
       "<style scoped>\n",
       "    .dataframe tbody tr th:only-of-type {\n",
       "        vertical-align: middle;\n",
       "    }\n",
       "\n",
       "    .dataframe tbody tr th {\n",
       "        vertical-align: top;\n",
       "    }\n",
       "\n",
       "    .dataframe thead th {\n",
       "        text-align: right;\n",
       "    }\n",
       "</style>\n",
       "<table border=\"1\" class=\"dataframe\">\n",
       "  <thead>\n",
       "    <tr style=\"text-align: right;\">\n",
       "      <th></th>\n",
       "      <th>motif name</th>\n",
       "      <th>seqeunce</th>\n",
       "      <th>sequence orientation</th>\n",
       "      <th>strand</th>\n",
       "    </tr>\n",
       "  </thead>\n",
       "  <tbody>\n",
       "    <tr>\n",
       "      <th>0</th>\n",
       "      <td>5pf</td>\n",
       "      <td>ACTTACCCGCTACTTTCATCACTAA</td>\n",
       "      <td>5' to 3'</td>\n",
       "      <td>plus</td>\n",
       "    </tr>\n",
       "    <tr>\n",
       "      <th>1</th>\n",
       "      <td>_1</td>\n",
       "      <td>AACAACATCAATCCTACATCGCCTA</td>\n",
       "      <td>5' to 3'</td>\n",
       "      <td>plus</td>\n",
       "    </tr>\n",
       "    <tr>\n",
       "      <th>2</th>\n",
       "      <td>_2</td>\n",
       "      <td>ATATACCTCGCCTCATCTCAATCAA</td>\n",
       "      <td>5' to 3'</td>\n",
       "      <td>plus</td>\n",
       "    </tr>\n",
       "    <tr>\n",
       "      <th>3</th>\n",
       "      <td>_3</td>\n",
       "      <td>TTTCACTTCTTATCCGCCTCACCTA</td>\n",
       "      <td>5' to 3'</td>\n",
       "      <td>plus</td>\n",
       "    </tr>\n",
       "    <tr>\n",
       "      <th>4</th>\n",
       "      <td>_4</td>\n",
       "      <td>CACCTTCACCTTACCTACTCAATTC</td>\n",
       "      <td>5' to 3'</td>\n",
       "      <td>plus</td>\n",
       "    </tr>\n",
       "    <tr>\n",
       "      <th>5</th>\n",
       "      <td>_5</td>\n",
       "      <td>CAACCCTCTATCCGCCTCTCCACTA</td>\n",
       "      <td>5' to 3'</td>\n",
       "      <td>plus</td>\n",
       "    </tr>\n",
       "    <tr>\n",
       "      <th>6</th>\n",
       "      <td>_6</td>\n",
       "      <td>AACCCATCACTTACCTCTCTTAACA</td>\n",
       "      <td>5' to 3'</td>\n",
       "      <td>plus</td>\n",
       "    </tr>\n",
       "    <tr>\n",
       "      <th>7</th>\n",
       "      <td>_7</td>\n",
       "      <td>CCATCCATATCATTTTCTCCTTACC</td>\n",
       "      <td>5' to 3'</td>\n",
       "      <td>plus</td>\n",
       "    </tr>\n",
       "    <tr>\n",
       "      <th>8</th>\n",
       "      <td>_8</td>\n",
       "      <td>CCACATCTACCCTTCCACTCTATCA</td>\n",
       "      <td>5' to 3'</td>\n",
       "      <td>plus</td>\n",
       "    </tr>\n",
       "    <tr>\n",
       "      <th>9</th>\n",
       "      <td>3pf</td>\n",
       "      <td>ACCACCTCGCATCATACCTACCTTA</td>\n",
       "      <td>5' to 3'</td>\n",
       "      <td>plus</td>\n",
       "    </tr>\n",
       "    <tr>\n",
       "      <th>10</th>\n",
       "      <td>5pf_splint</td>\n",
       "      <td>TTGGATAAGAGGCGTTGGGAGTAAA</td>\n",
       "      <td>5' to 3'</td>\n",
       "      <td>minus</td>\n",
       "    </tr>\n",
       "    <tr>\n",
       "      <th>11</th>\n",
       "      <td>1_splint</td>\n",
       "      <td>GATTAAGAGGCGTGGATGAAAGTAT</td>\n",
       "      <td>5' to 3'</td>\n",
       "      <td>minus</td>\n",
       "    </tr>\n",
       "    <tr>\n",
       "      <th>12</th>\n",
       "      <td>2_splint</td>\n",
       "      <td>GAAGAGTGCGTGTGAGATAGATAGG</td>\n",
       "      <td>5' to 3'</td>\n",
       "      <td>minus</td>\n",
       "    </tr>\n",
       "    <tr>\n",
       "      <th>13</th>\n",
       "      <td>3_splint</td>\n",
       "      <td>TGCGGGTAGGTGAAAGTAGGATGTG</td>\n",
       "      <td>5' to 3'</td>\n",
       "      <td>minus</td>\n",
       "    </tr>\n",
       "    <tr>\n",
       "      <th>14</th>\n",
       "      <td>4_splint</td>\n",
       "      <td>GTGGAGAAGTGAGTAGGAAAGTAAG</td>\n",
       "      <td>5' to 3'</td>\n",
       "      <td>minus</td>\n",
       "    </tr>\n",
       "    <tr>\n",
       "      <th>15</th>\n",
       "      <td>5_splint</td>\n",
       "      <td>GTGGTAGTAAGTAGAAGTGTGTGAG</td>\n",
       "      <td>5' to 3'</td>\n",
       "      <td>minus</td>\n",
       "    </tr>\n",
       "    <tr>\n",
       "      <th>16</th>\n",
       "      <td>6_splint</td>\n",
       "      <td>GCGAATGAAGGGTAGTATATAGGAG</td>\n",
       "      <td>5' to 3'</td>\n",
       "      <td>minus</td>\n",
       "    </tr>\n",
       "    <tr>\n",
       "      <th>17</th>\n",
       "      <td>7_splint</td>\n",
       "      <td>TTTGTGCGATGGTGGGATGGAAGAA</td>\n",
       "      <td>5' to 3'</td>\n",
       "      <td>minus</td>\n",
       "    </tr>\n",
       "    <tr>\n",
       "      <th>18</th>\n",
       "      <td>8_splint</td>\n",
       "      <td>GCGGGGATAAAGGTAGAAAAGGTAA</td>\n",
       "      <td>5' to 3'</td>\n",
       "      <td>minus</td>\n",
       "    </tr>\n",
       "    <tr>\n",
       "      <th>19</th>\n",
       "      <td>9_splint</td>\n",
       "      <td>AGGGATGGAGCTGGGTTGTATGTAA</td>\n",
       "      <td>5' to 3'</td>\n",
       "      <td>minus</td>\n",
       "    </tr>\n",
       "    <tr>\n",
       "      <th>20</th>\n",
       "      <td>10_splint</td>\n",
       "      <td>ATAGTGTAGTTGGGATGGGCAGAGA</td>\n",
       "      <td>5' to 3'</td>\n",
       "      <td>minus</td>\n",
       "    </tr>\n",
       "  </tbody>\n",
       "</table>\n",
       "</div>"
      ],
      "text/plain": [
       "   motif name                    seqeunce sequence orientation strand\n",
       "0          5pf  ACTTACCCGCTACTTTCATCACTAA             5' to 3'   plus\n",
       "1           _1  AACAACATCAATCCTACATCGCCTA             5' to 3'   plus\n",
       "2           _2  ATATACCTCGCCTCATCTCAATCAA             5' to 3'   plus\n",
       "3           _3  TTTCACTTCTTATCCGCCTCACCTA             5' to 3'   plus\n",
       "4           _4  CACCTTCACCTTACCTACTCAATTC             5' to 3'   plus\n",
       "5           _5  CAACCCTCTATCCGCCTCTCCACTA             5' to 3'   plus\n",
       "6           _6  AACCCATCACTTACCTCTCTTAACA             5' to 3'   plus\n",
       "7           _7  CCATCCATATCATTTTCTCCTTACC             5' to 3'   plus\n",
       "8           _8  CCACATCTACCCTTCCACTCTATCA             5' to 3'   plus\n",
       "9          3pf  ACCACCTCGCATCATACCTACCTTA             5' to 3'   plus\n",
       "10  5pf_splint  TTGGATAAGAGGCGTTGGGAGTAAA             5' to 3'  minus\n",
       "11    1_splint  GATTAAGAGGCGTGGATGAAAGTAT             5' to 3'  minus\n",
       "12    2_splint  GAAGAGTGCGTGTGAGATAGATAGG             5' to 3'  minus\n",
       "13    3_splint  TGCGGGTAGGTGAAAGTAGGATGTG             5' to 3'  minus\n",
       "14    4_splint  GTGGAGAAGTGAGTAGGAAAGTAAG             5' to 3'  minus\n",
       "15    5_splint  GTGGTAGTAAGTAGAAGTGTGTGAG             5' to 3'  minus\n",
       "16    6_splint  GCGAATGAAGGGTAGTATATAGGAG             5' to 3'  minus\n",
       "17    7_splint  TTTGTGCGATGGTGGGATGGAAGAA             5' to 3'  minus\n",
       "18    8_splint  GCGGGGATAAAGGTAGAAAAGGTAA             5' to 3'  minus\n",
       "19    9_splint  AGGGATGGAGCTGGGTTGTATGTAA             5' to 3'  minus\n",
       "20   10_splint  ATAGTGTAGTTGGGATGGGCAGAGA             5' to 3'  minus"
      ]
     },
     "execution_count": 133,
     "metadata": {},
     "output_type": "execute_result"
    }
   ],
   "source": [
    "library_df"
   ]
  },
  {
   "cell_type": "code",
   "execution_count": 12,
   "id": "7cdd4a12",
   "metadata": {},
   "outputs": [
    {
     "ename": "NameError",
     "evalue": "name 'library_df' is not defined",
     "output_type": "error",
     "traceback": [
      "\u001b[1;31m---------------------------------------------------------------------------\u001b[0m",
      "\u001b[1;31mNameError\u001b[0m                                 Traceback (most recent call last)",
      "Cell \u001b[1;32mIn[12], line 1\u001b[0m\n\u001b[1;32m----> 1\u001b[0m seqs \u001b[38;5;241m=\u001b[39m \u001b[43mlibrary_df\u001b[49m[\u001b[38;5;124m'\u001b[39m\u001b[38;5;124mseqeunce\u001b[39m\u001b[38;5;124m'\u001b[39m]\u001b[38;5;241m.\u001b[39mtolist()\n",
      "\u001b[1;31mNameError\u001b[0m: name 'library_df' is not defined"
     ]
    }
   ],
   "source": [
    "seqs = library_df['seqeunce'].tolist()"
   ]
  },
  {
   "cell_type": "code",
   "execution_count": null,
   "id": "7a7d65cc",
   "metadata": {},
   "outputs": [],
   "source": [
    "rc_seqs = [reverse_complement(i) for i in seqs]"
   ]
  },
  {
   "cell_type": "code",
   "execution_count": null,
   "id": "7f9999c6",
   "metadata": {},
   "outputs": [],
   "source": [
    "tseqs = seqs + rc_seqs"
   ]
  },
  {
   "cell_type": "code",
   "execution_count": 13,
   "id": "6db5ceb6",
   "metadata": {},
   "outputs": [],
   "source": [
    "def write_fasta(strands, filepath=r\"C:\\Users\\Parv\\Doc\\HelixWorks\\Basecalling\\squigulator\\sample.fa.txt\"):\n",
    "    counter = 3793\n",
    "    with open(filepath, 'w') as f:\n",
    "        for strand in strands:\n",
    "            f.write(f'>>seq_{counter} {len(strand)}bp\\n')\n",
    "            f.write(strand)\n",
    "            f.write('\\n\\n')\n",
    "            counter += 1"
   ]
  },
  {
   "cell_type": "code",
   "execution_count": 142,
   "id": "46c69a7b",
   "metadata": {},
   "outputs": [],
   "source": [
    "write_fasta(tseqs)"
   ]
  },
  {
   "cell_type": "markdown",
   "id": "a84e8fd5",
   "metadata": {},
   "source": [
    "### Spacer positions within full motif choices"
   ]
  },
  {
   "cell_type": "code",
   "execution_count": 14,
   "id": "9f2b3d0c",
   "metadata": {},
   "outputs": [
    {
     "ename": "NameError",
     "evalue": "name 'seqs' is not defined",
     "output_type": "error",
     "traceback": [
      "\u001b[1;31m---------------------------------------------------------------------------\u001b[0m",
      "\u001b[1;31mNameError\u001b[0m                                 Traceback (most recent call last)",
      "Cell \u001b[1;32mIn[14], line 1\u001b[0m\n\u001b[1;32m----> 1\u001b[0m \u001b[38;5;28;01mfor\u001b[39;00m ptr, seq \u001b[38;5;129;01min\u001b[39;00m \u001b[38;5;28menumerate\u001b[39m(\u001b[43mseqs\u001b[49m[:\u001b[38;5;241m-\u001b[39m\u001b[38;5;241m1\u001b[39m]):\n\u001b[0;32m      2\u001b[0m     \u001b[38;5;28;01mif\u001b[39;00m ptr \u001b[38;5;241m==\u001b[39m \u001b[38;5;241m0\u001b[39m:\n\u001b[0;32m      3\u001b[0m         cycle_position \u001b[38;5;241m=\u001b[39m \u001b[38;5;241m0\u001b[39m\n",
      "\u001b[1;31mNameError\u001b[0m: name 'seqs' is not defined"
     ]
    }
   ],
   "source": [
    "for ptr, seq in enumerate(seqs[:-1]):\n",
    "    if ptr == 0:\n",
    "        cycle_position = 0\n",
    "    else:\n",
    "        cycle_position = int((ptr - 1) / 8)\n",
    "\n",
    "    print(seq)\n",
    "    print(rev_spacers[cycle_position][12:] + \"A\"*25 + rev_spacers[cycle_position+1][:12])\n",
    "    print()\n",
    "    #print(rev_spacers[cycle_position][12:] + \"A\"*25 + rev_spacers[cycle_position+1][13:])\n",
    "    \"\"\"\n",
    "    for i, j in zip(rev_spacers, spacers):\n",
    "        if i[12:] in seq:\n",
    "            print(seq)\n",
    "            print(i[12:] + \"A\"*25 + i[:12])\n",
    "            print(i[:12])\n",
    "            print(j)\n",
    "        #if j[12:] in seq:\n",
    "        #    print(j)\n",
    "    \"\"\""
   ]
  },
  {
   "cell_type": "markdown",
   "id": "e65b6262",
   "metadata": {},
   "source": [
    "### Testing spacer finding using DSP"
   ]
  },
  {
   "cell_type": "code",
   "execution_count": 15,
   "id": "183a3e37",
   "metadata": {},
   "outputs": [],
   "source": [
    "_, motif_data = get_data_from_fast5(r\"C:\\Users\\Parv\\Doc\\HelixWorks\\Basecalling\\squigulator\\slow5tools-v1.1.0\\testing.fast5\")"
   ]
  },
  {
   "cell_type": "code",
   "execution_count": 16,
   "id": "6f5b82a5",
   "metadata": {},
   "outputs": [
    {
     "data": {
      "text/plain": [
       "42"
      ]
     },
     "execution_count": 16,
     "metadata": {},
     "output_type": "execute_result"
    }
   ],
   "source": [
    "len(motif_data)"
   ]
  },
  {
   "cell_type": "code",
   "execution_count": 21,
   "id": "7aab2800",
   "metadata": {},
   "outputs": [],
   "source": [
    "def create_motif_payload_sequence(data_squiggle):\n",
    "    motif_signal_positions = []\n",
    "    max_match_scores = []\n",
    "    corrs = []\n",
    "\n",
    "    n_padded = len(data_squiggle) + 405\n",
    "\n",
    "    get_fft = lambda x: np.fft.fft(clean_signal(x), n_padded)\n",
    "\n",
    "    data_fft = get_fft(data_squiggle)\n",
    "    fft_motifs = [get_fft(motif) for motif in motif_data]\n",
    "\n",
    "    for motif_index, motif in enumerate(fft_motifs):\n",
    "        corr = np.real(np.fft.ifft(\n",
    "            data_fft * np.conj(motif)))\n",
    "\n",
    "        best_position = np.argmax(corr)\n",
    "        best_match_score = np.max(corr)\n",
    "        \n",
    "        motif_signal_positions.append(best_position)\n",
    "        max_match_scores.append(best_match_score)\n",
    "        corrs.append(corr)\n",
    "\n",
    "    return motif_signal_positions, max_match_scores, corrs"
   ]
  },
  {
   "cell_type": "code",
   "execution_count": 71,
   "id": "5bcdbc75",
   "metadata": {},
   "outputs": [],
   "source": [
    "def display_correlation_clean(corr, threshold=100):\n",
    "    plt.plot([i if i > 100 else 0 for i in corr])\n",
    "\n",
    "def get_positions_of_correlation_spikes(corr, threshold=100):\n",
    "    return [i for i, j in enumerate(corr) if j > threshold]"
   ]
  },
  {
   "cell_type": "code",
   "execution_count": 22,
   "id": "fd968b0a",
   "metadata": {},
   "outputs": [],
   "source": [
    "motif_signal_positions, max_match_scores, corrs = create_motif_payload_sequence(data_arr[0])"
   ]
  },
  {
   "cell_type": "code",
   "execution_count": 23,
   "id": "698e6a32",
   "metadata": {},
   "outputs": [
    {
     "data": {
      "text/plain": [
       "array([7.04439465, 4.52128703, 1.11174713, ..., 7.26293405, 8.56962982,\n",
       "       8.53078163])"
      ]
     },
     "execution_count": 23,
     "metadata": {},
     "output_type": "execute_result"
    }
   ],
   "source": [
    "corrs[0]"
   ]
  },
  {
   "cell_type": "code",
   "execution_count": 72,
   "id": "23db7794",
   "metadata": {},
   "outputs": [],
   "source": [
    "motif_corrs = corrs[11:22]\n",
    "position_motif_wide = [get_positions_of_correlation_spikes(i) for i in motif_corrs]"
   ]
  },
  {
   "cell_type": "code",
   "execution_count": 93,
   "id": "0d024898",
   "metadata": {},
   "outputs": [],
   "source": [
    "# Select a single spacer\n",
    "spacer_selected = clean_signal(motif_data[20]) # 1_splint\n",
    "\n",
    "\n",
    "spike_positions = []\n",
    "for i in data_arr[:200]:\n",
    "\n",
    "    if len(i) > 10000:\n",
    "        continue\n",
    "\n",
    "    corr_arr = cross_correlation_fft(clean_signal(i), spacer_selected)\n",
    "    spike_positions.append(get_positions_of_correlation_spikes(corr_arr, threshold=120))\n",
    "\n",
    "    \n"
   ]
  },
  {
   "cell_type": "code",
   "execution_count": 81,
   "id": "d0ba3206",
   "metadata": {},
   "outputs": [],
   "source": [
    "corr = cross_correlation_fft(clean_signal(data_arr[20]), spacer_selected)"
   ]
  },
  {
   "cell_type": "code",
   "execution_count": 82,
   "id": "b412545b",
   "metadata": {},
   "outputs": [
    {
     "data": {
      "text/plain": [
       "4096"
      ]
     },
     "execution_count": 82,
     "metadata": {},
     "output_type": "execute_result"
    }
   ],
   "source": [
    "len(corr)"
   ]
  },
  {
   "cell_type": "code",
   "execution_count": 94,
   "id": "5003cd3d",
   "metadata": {},
   "outputs": [
    {
     "data": {
      "image/png": "[encoded data removed]",
      "text/plain": [
       "<Figure size 640x480 with 1 Axes>"
      ]
     },
     "metadata": {},
     "output_type": "display_data"
    }
   ],
   "source": [
    "for i in spike_positions:\n",
    "    plt.hist(i)"
   ]
  },
  {
   "cell_type": "code",
   "execution_count": 73,
   "id": "7953f691",
   "metadata": {},
   "outputs": [
    {
     "data": {
      "image/png": "[encoded data removed]",
      "text/plain": [
       "<Figure size 640x480 with 1 Axes>"
      ]
     },
     "metadata": {},
     "output_type": "display_data"
    }
   ],
   "source": [
    "for i, j in enumerate(position_motif_wide):\n",
    "    plt.hist(j, label=f\"{i}\")\n",
    "\n",
    "\n",
    "plt.legend()\n",
    "plt.show()"
   ]
  },
  {
   "cell_type": "code",
   "execution_count": 31,
   "id": "a227ff76",
   "metadata": {},
   "outputs": [
    {
     "data": {
      "image/png": "[encoded data removed]",
      "text/plain": [
       "<Figure size 640x480 with 1 Axes>"
      ]
     },
     "metadata": {},
     "output_type": "display_data"
    }
   ],
   "source": [
    "display_correlation_clean(corrs[7])"
   ]
  },
  {
   "cell_type": "code",
   "execution_count": 124,
   "id": "51e0f2df",
   "metadata": {},
   "outputs": [],
   "source": [
    "extracted_motif_positions = [i for i, j in zip(motif_signal_positions, max_match_scores) if j > 200]\n",
    "chosen_motifs = [i+1 for i, j in enumerate(max_match_scores) if j > 250]"
   ]
  },
  {
   "cell_type": "code",
   "execution_count": 127,
   "id": "5fb5bd1d",
   "metadata": {},
   "outputs": [
    {
     "data": {
      "text/plain": [
       "np.float64(220.9709502401191)"
      ]
     },
     "execution_count": 127,
     "metadata": {},
     "output_type": "execute_result"
    }
   ],
   "source": [
    "np.mean(max_match_scores)"
   ]
  },
  {
   "cell_type": "code",
   "execution_count": 128,
   "id": "bd92281b",
   "metadata": {},
   "outputs": [
    {
     "data": {
      "text/plain": [
       "np.float64(37.39114983763821)"
      ]
     },
     "execution_count": 128,
     "metadata": {},
     "output_type": "execute_result"
    }
   ],
   "source": [
    "np.std(max_match_scores)"
   ]
  },
  {
   "cell_type": "code",
   "execution_count": 108,
   "id": "5e9d1c10",
   "metadata": {},
   "outputs": [
    {
     "data": {
      "text/plain": [
       "[<matplotlib.lines.Line2D at 0x1a10050b8c0>]"
      ]
     },
     "execution_count": 108,
     "metadata": {},
     "output_type": "execute_result"
    },
    {
     "data": {
      "image/png": "[encoded data removed]",
      "text/plain": [
       "<Figure size 640x480 with 1 Axes>"
      ]
     },
     "metadata": {},
     "output_type": "display_data"
    }
   ],
   "source": [
    "plt.plot([i if i > 270 else 0 for i in max_match_scores])"
   ]
  },
  {
   "cell_type": "code",
   "execution_count": 83,
   "id": "eeef8a4c",
   "metadata": {},
   "outputs": [
    {
     "data": {
      "text/plain": [
       "[<matplotlib.lines.Line2D at 0x1a1950f7bf0>]"
      ]
     },
     "execution_count": 83,
     "metadata": {},
     "output_type": "execute_result"
    },
    {
     "data": {
      "image/png": "[encoded data removed]",
      "text/plain": [
       "<Figure size 640x480 with 1 Axes>"
      ]
     },
     "metadata": {},
     "output_type": "display_data"
    }
   ],
   "source": [
    "plt.plot(data[0])"
   ]
  },
  {
   "cell_type": "code",
   "execution_count": 84,
   "id": "a4224372",
   "metadata": {},
   "outputs": [
    {
     "data": {
      "text/plain": [
       "[<matplotlib.lines.Line2D at 0x1a18b341160>]"
      ]
     },
     "execution_count": 84,
     "metadata": {},
     "output_type": "execute_result"
    },
    {
     "data": {
      "image/png": "[encoded data removed]",
      "text/plain": [
       "<Figure size 640x480 with 1 Axes>"
      ]
     },
     "metadata": {},
     "output_type": "display_data"
    }
   ],
   "source": [
    "plt.plot(clean_signal(data[0]))"
   ]
  },
  {
   "cell_type": "code",
   "execution_count": 16,
   "id": "b17da457",
   "metadata": {},
   "outputs": [
    {
     "data": {
      "text/plain": [
       "[<matplotlib.lines.Line2D at 0x1a14d272ea0>]"
      ]
     },
     "execution_count": 16,
     "metadata": {},
     "output_type": "execute_result"
    },
    {
     "data": {
      "image/png": "[encoded data removed]",
      "text/plain": [
       "<Figure size 640x480 with 1 Axes>"
      ]
     },
     "metadata": {},
     "output_type": "display_data"
    }
   ],
   "source": [
    "plt.plot(spacer_rep)"
   ]
  },
  {
   "cell_type": "markdown",
   "id": "8bf192fb",
   "metadata": {},
   "source": [
    "Remember strands can be reverse complemented and forward"
   ]
  },
  {
   "cell_type": "code",
   "execution_count": 26,
   "id": "3ebe6dd3",
   "metadata": {},
   "outputs": [],
   "source": [
    "from tqdm.notebook import tqdm"
   ]
  },
  {
   "cell_type": "code",
   "execution_count": 36,
   "id": "8d3493db",
   "metadata": {},
   "outputs": [
    {
     "data": {
      "application/vnd.jupyter.widget-view+json": {
       "model_id": "d3b8d339e2f7466fb206ca50e032b274",
       "version_major": 2,
       "version_minor": 0
      },
      "text/plain": [
       "  0%|          | 0/4000 [00:00<?, ?it/s]"
      ]
     },
     "metadata": {},
     "output_type": "display_data"
    }
   ],
   "source": [
    "corrs = []\n",
    "motif_position = []\n",
    "motif_current = []\n",
    "for i in tqdm(data_arr):\n",
    "    corr = cross_correlation_fft(clean_signal(i), clean_signal(data[1]))\n",
    "    corrs.append(corr)\n",
    "    motif_position.append(np.argmax(corr)/8)\n",
    "    max_current = motif_current.append(np.max(corr))"
   ]
  },
  {
   "cell_type": "code",
   "execution_count": 32,
   "id": "6bcd0a67",
   "metadata": {},
   "outputs": [
    {
     "data": {
      "text/plain": [
       "(array([2543., 1041.,  228.,   75.,   29.,   38.,   23.,    8.,    9.,\n",
       "           6.]),\n",
       " array([ 141.34312827,  249.81534647,  358.28756468,  466.75978289,\n",
       "         575.2320011 ,  683.7042193 ,  792.17643751,  900.64865572,\n",
       "        1009.12087393, 1117.59309213, 1226.06531034]),\n",
       " <BarContainer object of 10 artists>)"
      ]
     },
     "execution_count": 32,
     "metadata": {},
     "output_type": "execute_result"
    },
    {
     "data": {
      "image/png": "[encoded data removed]",
      "text/plain": [
       "<Figure size 640x480 with 1 Axes>"
      ]
     },
     "metadata": {},
     "output_type": "display_data"
    }
   ],
   "source": [
    "plt.hist(motif_current)"
   ]
  },
  {
   "cell_type": "code",
   "execution_count": 37,
   "id": "0a477001",
   "metadata": {},
   "outputs": [],
   "source": [
    "posis = [i for i, j in zip(motif_position, motif_current) if j > 300]"
   ]
  },
  {
   "cell_type": "code",
   "execution_count": 49,
   "id": "cba9900e",
   "metadata": {},
   "outputs": [
    {
     "data": {
      "text/plain": [
       "1096"
      ]
     },
     "execution_count": 49,
     "metadata": {},
     "output_type": "execute_result"
    }
   ],
   "source": [
    "37 * 8 + 50 * 16"
   ]
  },
  {
   "cell_type": "code",
   "execution_count": 50,
   "id": "3a02b9ed",
   "metadata": {},
   "outputs": [
    {
     "data": {
      "text/plain": [
       "400"
      ]
     },
     "execution_count": 50,
     "metadata": {},
     "output_type": "execute_result"
    }
   ],
   "source": [
    "50 * 8"
   ]
  },
  {
   "cell_type": "code",
   "execution_count": 45,
   "id": "700f5750",
   "metadata": {},
   "outputs": [
    {
     "data": {
      "text/plain": [
       "np.float64(2247.255221518987)"
      ]
     },
     "execution_count": 45,
     "metadata": {},
     "output_type": "execute_result"
    }
   ],
   "source": [
    "np.mean(posis)"
   ]
  },
  {
   "cell_type": "code",
   "execution_count": 21,
   "id": "107c2464",
   "metadata": {},
   "outputs": [],
   "source": [
    "corr = cross_correlation_fft(clean_signal(data_arr[0]), clean_signal(data[1]))"
   ]
  },
  {
   "cell_type": "code",
   "execution_count": 22,
   "id": "b52fb238",
   "metadata": {},
   "outputs": [
    {
     "data": {
      "text/plain": [
       "[<matplotlib.lines.Line2D at 0x1a14521deb0>]"
      ]
     },
     "execution_count": 22,
     "metadata": {},
     "output_type": "execute_result"
    },
    {
     "data": {
      "image/png": "[encoded data removed]",
      "text/plain": [
       "<Figure size 640x480 with 1 Axes>"
      ]
     },
     "metadata": {},
     "output_type": "display_data"
    }
   ],
   "source": [
    "plt.plot(corr)"
   ]
  },
  {
   "cell_type": "code",
   "execution_count": 46,
   "id": "5bd4df08",
   "metadata": {},
   "outputs": [
    {
     "data": {
      "text/plain": [
       "np.float64(93.125)"
      ]
     },
     "execution_count": 46,
     "metadata": {},
     "output_type": "execute_result"
    }
   ],
   "source": [
    "np.argmax(corr) / 8"
   ]
  },
  {
   "cell_type": "code",
   "execution_count": 40,
   "id": "a0a17871",
   "metadata": {},
   "outputs": [
    {
     "data": {
      "text/plain": [
       "np.float64(61.875)"
      ]
     },
     "execution_count": 40,
     "metadata": {},
     "output_type": "execute_result"
    }
   ],
   "source": [
    "np.argmax(corr) / 8"
   ]
  },
  {
   "cell_type": "markdown",
   "id": "5846fd22",
   "metadata": {},
   "source": [
    "37 + 50 + ..."
   ]
  },
  {
   "cell_type": "code",
   "execution_count": 41,
   "id": "839549be",
   "metadata": {},
   "outputs": [
    {
     "data": {
      "text/plain": [
       "[<matplotlib.lines.Line2D at 0x26078a83b90>]"
      ]
     },
     "execution_count": 41,
     "metadata": {},
     "output_type": "execute_result"
    },
    {
     "data": {
      "image/png": "[encoded data removed]",
      "text/plain": [
       "<Figure size 640x480 with 1 Axes>"
      ]
     },
     "metadata": {},
     "output_type": "display_data"
    }
   ],
   "source": [
    "plt.plot(corr)"
   ]
  },
  {
   "cell_type": "code",
   "execution_count": 51,
   "id": "51193c09",
   "metadata": {},
   "outputs": [],
   "source": [
    "t = [i if i > 150 else 0 for i in corr]"
   ]
  },
  {
   "cell_type": "code",
   "execution_count": 52,
   "id": "e4371c1a",
   "metadata": {},
   "outputs": [
    {
     "data": {
      "text/plain": [
       "[<matplotlib.lines.Line2D at 0x26079bc5d90>]"
      ]
     },
     "execution_count": 52,
     "metadata": {},
     "output_type": "execute_result"
    },
    {
     "data": {
      "image/png": "[encoded data removed]",
      "text/plain": [
       "<Figure size 640x480 with 1 Axes>"
      ]
     },
     "metadata": {},
     "output_type": "display_data"
    }
   ],
   "source": [
    "plt.plot(t)"
   ]
  },
  {
   "cell_type": "code",
   "execution_count": 216,
   "id": "5091646e",
   "metadata": {},
   "outputs": [],
   "source": [
    "best_shift = np.argmax(corr)\n",
    "best_similarity = corr[best_shift]\n"
   ]
  },
  {
   "cell_type": "code",
   "execution_count": null,
   "id": "40d32f57",
   "metadata": {},
   "outputs": [
    {
     "data": {
      "text/plain": [
       "np.int64(3999)"
      ]
     },
     "execution_count": 217,
     "metadata": {},
     "output_type": "execute_result"
    }
   ],
   "source": [
    "best_shiftb"
   ]
  },
  {
   "cell_type": "markdown",
   "id": "340b1ecc",
   "metadata": {},
   "source": [
    "### Sequencing data\n",
    "\n",
    "From the run - pod5vsFastq_170524_75ntV2_OK\n",
    "AGTGTCTGTGACCAGTACGACCCAGTACCGTCACGGTTAGGAAGCTCCTCGCTTCTTAGCCGTCACGCCAAAGTG"
   ]
  },
  {
   "cell_type": "code",
   "execution_count": 4,
   "id": "ba5d52d4",
   "metadata": {},
   "outputs": [],
   "source": [
    "import pod5 as p5\n",
    "\n",
    "# Reading pod5 data\n",
    "def read_pod5_file(filepath):\n",
    "    read_ids = []\n",
    "    squiggles = []\n",
    "    with p5.Reader(filepath) as reader:\n",
    "        for read_record in reader.reads():\n",
    "            read_ids.append(read_record.read_id)\n",
    "            squiggles.append(read_record.signal)\n",
    "            \n",
    "\n",
    "    return squiggles, read_ids"
   ]
  },
  {
   "cell_type": "code",
   "execution_count": 5,
   "id": "a23fceb3",
   "metadata": {},
   "outputs": [],
   "source": [
    "squiggles, read_ids = read_pod5_file(r\"C:\\Users\\Parv\\Doc\\RA\\Projects\\DSP\\data\\pod5vsFastq_170524_75ntV2_OK\\pod5_pass\\ATQ988_pass_22e98598_8902973c_3.pod5\")"
   ]
  },
  {
   "cell_type": "code",
   "execution_count": null,
   "id": "38c1be11",
   "metadata": {},
   "outputs": [
    {
     "data": {
      "text/plain": [
       "75"
      ]
     },
     "execution_count": 6,
     "metadata": {},
     "output_type": "execute_result"
    }
   ],
   "source": [
    "original_strand = \"AGTGTCTGTGACCAGTACGACCCAGTACCGTCACGGTTAGGAAGCTCCTCGCTTCTTAGCCGTCACGCCAAAGTG\""
   ]
  },
  {
   "cell_type": "code",
   "execution_count": 47,
   "id": "9dd2db7c",
   "metadata": {},
   "outputs": [],
   "source": [
    "# Making a list of all possible 40mers and generating singal using squigulator for testing\n",
    "subseqs = [original_strand[i: i + 40] for i in range(0, len(original_strand) - 40)]\n",
    "write_fasta(subseqs)"
   ]
  },
  {
   "cell_type": "code",
   "execution_count": 48,
   "id": "d2f07104",
   "metadata": {},
   "outputs": [],
   "source": [
    "_, motif_data = get_data_from_fast5(r\"C:\\Users\\Parv\\Doc\\HelixWorks\\Basecalling\\squigulator\\slow5tools-v1.1.0\\testing.fast5\")"
   ]
  },
  {
   "cell_type": "code",
   "execution_count": 71,
   "id": "e5f9d3bd",
   "metadata": {},
   "outputs": [],
   "source": [
    "corr = cross_correlation_fft(clean_signal(squiggles[1]), clean_signal(motif_data[26]))"
   ]
  },
  {
   "cell_type": "code",
   "execution_count": null,
   "id": "f4717bbd",
   "metadata": {},
   "outputs": [],
   "source": [
    "for i in squiggles:\n",
    "    "
   ]
  },
  {
   "cell_type": "code",
   "execution_count": 72,
   "id": "270ffd32",
   "metadata": {},
   "outputs": [
    {
     "data": {
      "text/plain": [
       "[<matplotlib.lines.Line2D at 0x176d6b02ea0>]"
      ]
     },
     "execution_count": 72,
     "metadata": {},
     "output_type": "execute_result"
    },
    {
     "data": {
      "image/png": "[encoded data removed]",
      "text/plain": [
       "<Figure size 640x480 with 1 Axes>"
      ]
     },
     "metadata": {},
     "output_type": "display_data"
    }
   ],
   "source": [
    "plt.plot(corr)"
   ]
  },
  {
   "cell_type": "code",
   "execution_count": 33,
   "id": "4c3340a5",
   "metadata": {},
   "outputs": [],
   "source": [
    "from Bio import SeqIO\n",
    "\n",
    "def reverse_complement(dna: str) -> str:\n",
    "    complement = {'A': 'T', 'T': 'A', 'C': 'G', 'G': 'C'}\n",
    "    return ''.join(complement[base] for base in reversed(dna))\n",
    "\n",
    "def parse_biopython(input_fastq):\n",
    "    for record in SeqIO.parse(input_fastq, 'fastq'):\n",
    "        yield record\n",
    "\n",
    "def get_fastq_records(fastq_filepath):\n",
    "    records = []\n",
    "    for i, record in enumerate(parse_biopython(fastq_filepath)):\n",
    "        records.append(record)\n",
    "    return records"
   ]
  },
  {
   "cell_type": "code",
   "execution_count": 36,
   "id": "47aa3971",
   "metadata": {},
   "outputs": [],
   "source": [
    "fq_recs = get_fastq_records(r\"C:\\Users\\Parv\\Doc\\RA\\Projects\\DSP\\data\\pod5vsFastq_170524_75ntV2_OK\\fastq_pass\\ATQ988_pass_22e98598_8902973c_3.fastq\\ATQ988_pass_22e98598_8902973c_3.fastq\")"
   ]
  },
  {
   "cell_type": "code",
   "execution_count": 39,
   "id": "cfab681d",
   "metadata": {},
   "outputs": [],
   "source": [
    "from Levenshtein import distance"
   ]
  },
  {
   "cell_type": "code",
   "execution_count": 82,
   "id": "1b068cfe",
   "metadata": {},
   "outputs": [],
   "source": [
    "primer = 'CACTTTGGCGTGACGG'\n",
    "primer = reverse_complement(primer)"
   ]
  },
  {
   "cell_type": "code",
   "execution_count": 83,
   "id": "d086174b",
   "metadata": {},
   "outputs": [
    {
     "name": "stdout",
     "output_type": "stream",
     "text": [
      "11\n",
      "10\n",
      "10\n",
      "11\n",
      "10\n",
      "12\n",
      "12\n",
      "8\n",
      "12\n",
      "10\n",
      "10\n",
      "8\n",
      "12\n",
      "12\n",
      "11\n",
      "11\n",
      "10\n",
      "12\n",
      "11\n",
      "10\n",
      "13\n",
      "12\n",
      "9\n",
      "13\n",
      "9\n",
      "11\n",
      "12\n",
      "13\n",
      "9\n",
      "10\n",
      "8\n",
      "11\n",
      "13\n",
      "10\n",
      "13\n",
      "10\n",
      "10\n",
      "10\n",
      "12\n",
      "13\n",
      "11\n",
      "8\n",
      "9\n",
      "11\n",
      "10\n",
      "9\n",
      "11\n",
      "8\n",
      "11\n",
      "13\n",
      "10\n",
      "9\n",
      "11\n",
      "10\n",
      "12\n",
      "10\n",
      "10\n",
      "9\n",
      "11\n",
      "9\n",
      "11\n",
      "11\n",
      "10\n",
      "9\n",
      "11\n",
      "11\n",
      "10\n",
      "12\n",
      "10\n",
      "12\n",
      "9\n",
      "10\n",
      "9\n",
      "9\n",
      "13\n",
      "10\n",
      "13\n",
      "12\n",
      "10\n",
      "12\n",
      "10\n",
      "11\n",
      "12\n",
      "10\n",
      "10\n",
      "10\n",
      "10\n",
      "12\n",
      "11\n",
      "9\n",
      "10\n",
      "9\n",
      "13\n",
      "14\n",
      "12\n",
      "12\n",
      "12\n",
      "10\n",
      "10\n",
      "9\n",
      "11\n",
      "9\n",
      "12\n",
      "10\n",
      "10\n",
      "10\n",
      "10\n",
      "12\n",
      "10\n",
      "12\n",
      "13\n",
      "13\n",
      "10\n",
      "12\n",
      "11\n",
      "10\n",
      "7\n",
      "9\n",
      "13\n",
      "10\n",
      "13\n",
      "10\n",
      "10\n",
      "11\n",
      "7\n",
      "12\n",
      "12\n",
      "12\n",
      "13\n",
      "11\n",
      "10\n",
      "9\n",
      "10\n",
      "11\n",
      "10\n",
      "13\n",
      "12\n",
      "10\n",
      "10\n",
      "10\n",
      "6\n",
      "9\n",
      "13\n",
      "8\n",
      "11\n",
      "10\n",
      "8\n",
      "10\n",
      "8\n",
      "10\n",
      "11\n",
      "13\n",
      "12\n",
      "10\n",
      "11\n",
      "10\n",
      "8\n",
      "9\n",
      "9\n",
      "11\n",
      "11\n",
      "10\n",
      "10\n",
      "10\n",
      "10\n",
      "12\n",
      "10\n",
      "11\n",
      "10\n",
      "12\n",
      "11\n",
      "11\n",
      "9\n",
      "9\n",
      "10\n",
      "11\n",
      "10\n",
      "10\n",
      "8\n",
      "10\n",
      "9\n",
      "9\n",
      "9\n",
      "10\n",
      "12\n",
      "9\n",
      "9\n",
      "12\n",
      "9\n",
      "12\n",
      "10\n",
      "9\n",
      "12\n",
      "10\n",
      "11\n",
      "12\n",
      "9\n",
      "12\n",
      "13\n",
      "10\n",
      "12\n",
      "11\n",
      "10\n",
      "11\n",
      "10\n",
      "11\n",
      "10\n",
      "9\n",
      "12\n",
      "10\n",
      "11\n",
      "13\n",
      "11\n",
      "9\n",
      "11\n",
      "12\n",
      "12\n",
      "11\n",
      "8\n",
      "9\n",
      "9\n",
      "9\n",
      "14\n",
      "10\n",
      "12\n",
      "12\n",
      "10\n",
      "11\n",
      "10\n",
      "11\n",
      "13\n",
      "8\n",
      "10\n",
      "9\n",
      "10\n",
      "11\n",
      "11\n",
      "10\n",
      "9\n",
      "9\n",
      "12\n",
      "9\n",
      "9\n",
      "13\n",
      "12\n",
      "11\n",
      "9\n",
      "10\n",
      "11\n",
      "9\n",
      "9\n",
      "12\n",
      "9\n",
      "8\n",
      "10\n",
      "9\n",
      "9\n",
      "11\n",
      "10\n",
      "10\n",
      "8\n",
      "12\n",
      "10\n",
      "10\n",
      "9\n",
      "8\n",
      "9\n",
      "9\n",
      "10\n",
      "8\n",
      "9\n",
      "10\n",
      "9\n",
      "9\n",
      "10\n",
      "9\n",
      "9\n",
      "9\n",
      "11\n",
      "10\n",
      "10\n",
      "11\n",
      "9\n",
      "9\n",
      "8\n",
      "10\n",
      "10\n",
      "12\n",
      "11\n",
      "10\n",
      "11\n",
      "11\n",
      "12\n",
      "10\n",
      "8\n",
      "12\n",
      "10\n",
      "10\n",
      "10\n",
      "11\n",
      "8\n",
      "7\n",
      "11\n",
      "11\n",
      "10\n",
      "12\n",
      "10\n",
      "12\n",
      "9\n",
      "9\n",
      "9\n",
      "9\n",
      "11\n",
      "13\n",
      "12\n",
      "11\n",
      "12\n",
      "8\n",
      "10\n",
      "12\n",
      "13\n",
      "13\n",
      "9\n",
      "9\n",
      "9\n",
      "9\n",
      "11\n",
      "8\n",
      "10\n",
      "11\n",
      "10\n",
      "9\n",
      "10\n",
      "8\n",
      "9\n",
      "11\n",
      "10\n",
      "9\n",
      "12\n",
      "10\n",
      "9\n",
      "12\n",
      "9\n",
      "12\n",
      "11\n",
      "8\n",
      "10\n",
      "11\n",
      "11\n",
      "10\n",
      "9\n",
      "11\n",
      "8\n",
      "11\n",
      "10\n",
      "12\n",
      "11\n",
      "14\n",
      "9\n",
      "12\n",
      "12\n",
      "10\n",
      "10\n",
      "10\n",
      "8\n",
      "10\n",
      "10\n",
      "12\n",
      "10\n",
      "10\n",
      "12\n",
      "11\n",
      "9\n",
      "10\n",
      "11\n",
      "10\n",
      "12\n",
      "10\n",
      "10\n",
      "10\n",
      "12\n",
      "9\n",
      "11\n",
      "12\n",
      "11\n",
      "11\n",
      "10\n",
      "11\n",
      "11\n",
      "13\n",
      "10\n",
      "9\n",
      "9\n",
      "10\n",
      "10\n",
      "12\n",
      "9\n",
      "11\n",
      "10\n",
      "11\n",
      "9\n",
      "9\n",
      "12\n",
      "11\n",
      "10\n",
      "11\n",
      "14\n",
      "10\n",
      "13\n",
      "9\n",
      "9\n",
      "9\n",
      "11\n",
      "12\n",
      "10\n",
      "10\n",
      "13\n",
      "11\n",
      "12\n",
      "9\n",
      "10\n",
      "9\n",
      "10\n",
      "13\n",
      "10\n",
      "13\n",
      "10\n",
      "9\n",
      "15\n",
      "10\n",
      "11\n",
      "10\n",
      "9\n",
      "9\n",
      "12\n",
      "10\n",
      "12\n",
      "10\n",
      "11\n",
      "11\n",
      "10\n",
      "10\n",
      "11\n",
      "9\n",
      "9\n",
      "11\n",
      "12\n",
      "8\n",
      "11\n",
      "11\n",
      "10\n",
      "8\n",
      "10\n",
      "9\n",
      "8\n",
      "12\n",
      "13\n",
      "10\n",
      "9\n",
      "11\n",
      "13\n",
      "11\n",
      "10\n",
      "9\n",
      "10\n",
      "9\n",
      "12\n",
      "11\n",
      "9\n",
      "9\n",
      "9\n",
      "9\n",
      "11\n",
      "9\n",
      "10\n",
      "10\n",
      "9\n",
      "12\n",
      "13\n",
      "11\n",
      "9\n",
      "11\n",
      "10\n",
      "10\n",
      "9\n",
      "13\n",
      "10\n",
      "10\n",
      "10\n",
      "8\n",
      "13\n",
      "11\n",
      "8\n",
      "9\n",
      "9\n",
      "11\n",
      "9\n",
      "10\n",
      "11\n",
      "10\n",
      "9\n",
      "9\n",
      "10\n",
      "9\n",
      "11\n",
      "10\n",
      "9\n",
      "12\n",
      "11\n",
      "10\n",
      "11\n",
      "14\n",
      "8\n",
      "10\n",
      "9\n",
      "10\n",
      "10\n",
      "13\n",
      "9\n",
      "11\n",
      "10\n",
      "12\n",
      "9\n",
      "12\n",
      "9\n",
      "13\n",
      "10\n",
      "10\n",
      "11\n",
      "11\n",
      "8\n",
      "12\n",
      "15\n",
      "9\n",
      "12\n",
      "9\n",
      "11\n",
      "12\n",
      "11\n",
      "12\n",
      "9\n",
      "8\n",
      "12\n",
      "10\n",
      "12\n",
      "11\n",
      "8\n",
      "12\n",
      "9\n",
      "12\n",
      "8\n",
      "9\n",
      "14\n",
      "9\n",
      "11\n",
      "11\n",
      "10\n",
      "10\n",
      "11\n",
      "7\n",
      "11\n",
      "8\n",
      "9\n",
      "7\n",
      "10\n",
      "11\n",
      "13\n",
      "10\n",
      "10\n",
      "10\n",
      "12\n",
      "10\n",
      "12\n",
      "10\n",
      "12\n",
      "11\n",
      "10\n",
      "9\n",
      "11\n",
      "9\n",
      "12\n",
      "10\n",
      "9\n",
      "10\n",
      "12\n",
      "12\n",
      "9\n",
      "9\n",
      "10\n",
      "11\n",
      "13\n",
      "9\n",
      "10\n",
      "10\n",
      "10\n",
      "11\n",
      "11\n",
      "9\n",
      "13\n",
      "11\n",
      "12\n",
      "11\n",
      "11\n",
      "11\n",
      "11\n",
      "10\n",
      "8\n",
      "11\n",
      "12\n",
      "9\n",
      "8\n",
      "9\n",
      "12\n",
      "11\n",
      "8\n",
      "10\n",
      "11\n",
      "9\n",
      "12\n",
      "13\n",
      "11\n",
      "10\n",
      "10\n",
      "14\n",
      "11\n",
      "11\n",
      "10\n",
      "12\n",
      "10\n",
      "10\n",
      "11\n",
      "9\n",
      "8\n",
      "11\n",
      "11\n",
      "12\n",
      "10\n",
      "9\n",
      "9\n",
      "9\n",
      "11\n",
      "10\n",
      "11\n",
      "10\n",
      "10\n",
      "11\n",
      "9\n",
      "9\n",
      "10\n",
      "8\n",
      "13\n",
      "11\n",
      "11\n",
      "11\n",
      "11\n",
      "9\n",
      "10\n",
      "9\n",
      "12\n",
      "9\n",
      "9\n",
      "9\n",
      "10\n",
      "9\n",
      "10\n",
      "8\n",
      "10\n",
      "11\n",
      "9\n",
      "11\n",
      "9\n",
      "8\n",
      "11\n",
      "11\n",
      "11\n",
      "10\n",
      "12\n",
      "12\n",
      "10\n",
      "11\n",
      "12\n",
      "10\n",
      "11\n",
      "10\n",
      "9\n",
      "11\n",
      "10\n",
      "10\n",
      "12\n",
      "10\n",
      "15\n",
      "11\n",
      "11\n",
      "9\n",
      "11\n",
      "11\n",
      "11\n",
      "11\n",
      "10\n",
      "9\n",
      "11\n",
      "11\n",
      "9\n",
      "10\n",
      "10\n",
      "10\n",
      "10\n",
      "11\n",
      "9\n",
      "11\n",
      "10\n",
      "10\n",
      "12\n",
      "9\n",
      "10\n",
      "9\n",
      "12\n",
      "12\n",
      "12\n",
      "11\n",
      "10\n",
      "11\n",
      "9\n",
      "8\n",
      "11\n",
      "7\n",
      "12\n",
      "13\n",
      "13\n",
      "10\n",
      "12\n",
      "11\n",
      "11\n",
      "7\n",
      "12\n",
      "11\n",
      "12\n",
      "9\n",
      "10\n",
      "9\n",
      "11\n",
      "11\n",
      "11\n",
      "11\n",
      "11\n",
      "9\n",
      "13\n",
      "11\n",
      "10\n",
      "10\n",
      "11\n",
      "10\n",
      "10\n",
      "11\n",
      "11\n",
      "10\n",
      "9\n",
      "10\n",
      "14\n",
      "8\n",
      "10\n",
      "10\n",
      "14\n",
      "12\n",
      "13\n",
      "10\n",
      "10\n",
      "11\n",
      "13\n",
      "10\n",
      "11\n",
      "10\n",
      "12\n",
      "10\n",
      "11\n",
      "12\n",
      "10\n",
      "8\n",
      "10\n",
      "13\n",
      "10\n",
      "11\n",
      "12\n",
      "10\n",
      "10\n",
      "8\n",
      "9\n",
      "11\n",
      "11\n",
      "12\n",
      "9\n",
      "8\n",
      "12\n",
      "14\n",
      "13\n",
      "9\n",
      "11\n",
      "10\n",
      "11\n",
      "9\n",
      "9\n",
      "11\n",
      "10\n",
      "11\n",
      "10\n",
      "11\n",
      "10\n",
      "10\n",
      "8\n",
      "10\n",
      "12\n",
      "13\n",
      "12\n",
      "10\n",
      "10\n",
      "10\n",
      "10\n",
      "9\n",
      "10\n",
      "10\n",
      "10\n",
      "6\n",
      "6\n",
      "10\n",
      "12\n",
      "11\n",
      "11\n",
      "12\n",
      "9\n",
      "10\n",
      "7\n",
      "12\n",
      "11\n",
      "10\n",
      "10\n",
      "9\n",
      "9\n",
      "12\n",
      "9\n",
      "11\n",
      "10\n",
      "11\n",
      "9\n",
      "11\n",
      "9\n",
      "12\n",
      "10\n",
      "10\n",
      "11\n",
      "12\n",
      "9\n",
      "10\n",
      "11\n",
      "8\n",
      "12\n",
      "9\n",
      "11\n",
      "10\n",
      "10\n",
      "13\n",
      "12\n",
      "11\n",
      "9\n",
      "14\n",
      "13\n",
      "10\n",
      "9\n",
      "13\n",
      "11\n",
      "11\n",
      "9\n",
      "10\n",
      "10\n",
      "9\n",
      "12\n",
      "9\n",
      "10\n",
      "9\n",
      "8\n",
      "10\n",
      "10\n",
      "13\n",
      "12\n",
      "10\n",
      "12\n",
      "10\n",
      "12\n",
      "9\n",
      "10\n",
      "9\n",
      "9\n",
      "10\n",
      "8\n",
      "9\n",
      "9\n",
      "10\n",
      "12\n",
      "11\n",
      "11\n",
      "9\n",
      "12\n",
      "12\n",
      "9\n",
      "10\n",
      "11\n",
      "11\n",
      "10\n",
      "10\n",
      "9\n",
      "11\n",
      "11\n",
      "10\n",
      "12\n",
      "13\n",
      "13\n",
      "11\n",
      "11\n",
      "14\n",
      "11\n",
      "10\n",
      "9\n",
      "13\n",
      "12\n",
      "11\n",
      "9\n",
      "9\n",
      "12\n",
      "11\n",
      "11\n",
      "9\n",
      "11\n",
      "10\n",
      "11\n",
      "11\n",
      "10\n",
      "8\n",
      "14\n",
      "10\n",
      "11\n",
      "10\n",
      "10\n",
      "12\n",
      "12\n",
      "10\n",
      "11\n",
      "10\n",
      "9\n",
      "13\n",
      "10\n",
      "10\n",
      "11\n",
      "9\n",
      "11\n",
      "11\n",
      "12\n",
      "8\n",
      "11\n",
      "10\n",
      "9\n",
      "9\n",
      "10\n",
      "9\n",
      "12\n",
      "13\n",
      "12\n",
      "9\n",
      "9\n",
      "9\n",
      "11\n",
      "13\n",
      "10\n",
      "9\n",
      "11\n",
      "9\n",
      "9\n",
      "11\n",
      "9\n",
      "13\n",
      "11\n",
      "12\n",
      "8\n",
      "11\n",
      "10\n",
      "9\n",
      "11\n",
      "10\n",
      "10\n",
      "11\n",
      "11\n",
      "11\n",
      "10\n",
      "11\n",
      "9\n",
      "11\n",
      "9\n",
      "9\n",
      "9\n",
      "12\n",
      "11\n",
      "6\n"
     ]
    }
   ],
   "source": [
    "for i in fq_recs:\n",
    "    print(distance(i[-20:], primer))"
   ]
  },
  {
   "cell_type": "code",
   "execution_count": null,
   "id": "085735cc",
   "metadata": {},
   "outputs": [],
   "source": []
  }
 ],
 "metadata": {
  "kernelspec": {
   "display_name": "pytorch_gpu",
   "language": "python",
   "name": "python3"
  },
  "language_info": {
   "codemirror_mode": {
    "name": "ipython",
    "version": 3
   },
   "file_extension": ".py",
   "mimetype": "text/x-python",
   "name": "python",
   "nbconvert_exporter": "python",
   "pygments_lexer": "ipython3",
   "version": "3.12.3"
  }
 },
 "nbformat": 4,
 "nbformat_minor": 5
}
