{
 "cells": [
  {
   "cell_type": "markdown",
   "id": "a043815c",
   "metadata": {},
   "source": [
    "## Loading fast5 data\n",
    "From the ONT tutorial - https://epi2me.nanoporetech.com/notebooks/Introduction_to_Fast5_files.html"
   ]
  },
  {
   "cell_type": "code",
   "execution_count": 12,
   "id": "eae54f08",
   "metadata": {},
   "outputs": [],
   "source": [
    "%load_ext autoreload\n",
    "%autoreload 2"
   ]
  },
  {
   "cell_type": "code",
   "execution_count": 6,
   "id": "042615d6",
   "metadata": {},
   "outputs": [
    {
     "name": "stdout",
     "output_type": "stream",
     "text": [
      "c:\\Users\\Parv\\Doc\\RA\\Projects\\DSP\\epi2melabs\\fast5_tutorial\n"
     ]
    },
    {
     "name": "stderr",
     "output_type": "stream",
     "text": [
      "c:\\Users\\Parv\\anaconda3\\envs\\pytorch_gpu\\Lib\\site-packages\\IPython\\core\\magics\\osm.py:417: UserWarning: This is now an optional IPython functionality, setting dhist requires you to install the `pickleshare` library.\n",
      "  self.shell.db['dhist'] = compress_dhist(dhist)[-100:]\n"
     ]
    }
   ],
   "source": [
    "from epi2melabs import ping\n",
    "tutorial_name = \"fast5_tutorial\"\n",
    "pinger = ping.Pingu()\n",
    "pinger.send_notebook_ping('start', tutorial_name)\n",
    "\n",
    "# create a work directory and move into it\n",
    "working_dir = 'epi2melabs/{}/'.format(tutorial_name)\n",
    "%mkdir \"$working_dir\"\n",
    "%cd \"$working_dir\""
   ]
  },
  {
   "cell_type": "code",
   "execution_count": 8,
   "id": "e09319b0",
   "metadata": {},
   "outputs": [
    {
     "name": "stderr",
     "output_type": "stream",
     "text": [
      "UsageError: Line magic function `%rm` not found.\n"
     ]
    }
   ],
   "source": [
    "bucket = \"ont-exd-int-s3-euwst1-epi2me-labs\"\n",
    "domain = \"s3-eu-west-1.amazonaws.com\"\n",
    "site = \"https://{}.{}\".format(bucket, domain)\n",
    "site = \"https://ont-exd-int-s3-euwst1-epi2me-labs.s3-eu-west-1.amazonaws.com\"\n",
    "\n",
    "%rm -rf sample_fast5\n",
    "%wget -O sample_fast5.tar $site/fast5_tutorial/sample_fast5.tar\n",
    "%tar -xvf sample_fast5.tar\n",
    "%wget -O fast5_sample.bam $site/fast5_tutorial/fast5_sample.bam\n",
    "%wget -O fast5_sample.bam.bai $site/fast5_tutorial/fast5_sample.bam.bai"
   ]
  },
  {
   "cell_type": "code",
   "execution_count": 10,
   "id": "148dfa50",
   "metadata": {},
   "outputs": [
    {
     "name": "stderr",
     "output_type": "stream",
     "text": [
      "sample_fast5.tar: 100%|██████████| 2.52G/2.52G [05:03<00:00, 8.32MB/s]\n",
      "fast5_sample.bam: 100%|██████████| 71.6M/71.6M [00:09<00:00, 7.45MB/s]\n",
      "fast5_sample.bam.bai: 100%|██████████| 123k/123k [00:00<00:00, 3.18MB/s]"
     ]
    },
    {
     "name": "stdout",
     "output_type": "stream",
     "text": [
      "All files downloaded and extracted.\n"
     ]
    },
    {
     "name": "stderr",
     "output_type": "stream",
     "text": [
      "\n"
     ]
    }
   ],
   "source": [
    "import os\n",
    "import requests\n",
    "import tarfile\n",
    "import shutil\n",
    "from tqdm import tqdm\n",
    "\n",
    "bucket = \"ont-exd-int-s3-euwst1-epi2me-labs\"\n",
    "domain = \"s3-eu-west-1.amazonaws.com\"\n",
    "site = f\"https://{bucket}.{domain}\"\n",
    "\n",
    "# Ensure directory is clean\n",
    "if os.path.exists(\"sample_fast5\"):\n",
    "    shutil.rmtree(\"sample_fast5\")\n",
    "os.makedirs(\"sample_fast5\", exist_ok=True)\n",
    "\n",
    "def download_file(url, filename):\n",
    "    response = requests.get(url, stream=True)\n",
    "    response.raise_for_status()\n",
    "    total_size = int(response.headers.get(\"content-length\", 0))\n",
    "    block_size = 8192  # 8 KB\n",
    "    desc = filename if len(filename) < 30 else filename[:27] + \"...\"\n",
    "    progress = tqdm(total=total_size, unit=\"B\", unit_scale=True, desc=desc)\n",
    "    \n",
    "    with open(filename, \"wb\") as f:\n",
    "        for chunk in response.iter_content(block_size):\n",
    "            f.write(chunk)\n",
    "            progress.update(len(chunk))\n",
    "    progress.close()\n",
    "\n",
    "# Download the tar file\n",
    "download_file(f\"{site}/fast5_tutorial/sample_fast5.tar\", \"sample_fast5.tar\")\n",
    "\n",
    "# Extract tar file\n",
    "with tarfile.open(\"sample_fast5.tar\", \"r\") as tar:\n",
    "    tar.extractall(path=\"sample_fast5\")\n",
    "\n",
    "# Download BAM and index files\n",
    "download_file(f\"{site}/fast5_tutorial/fast5_sample.bam\", \"fast5_sample.bam\")\n",
    "download_file(f\"{site}/fast5_tutorial/fast5_sample.bam.bai\", \"fast5_sample.bam.bai\")\n",
    "\n",
    "print(\"All files downloaded and extracted.\")\n"
   ]
  },
  {
   "cell_type": "markdown",
   "id": "4bcc7017",
   "metadata": {},
   "source": [
    "### Collecting sample data\n",
    "Using the read ids to find corresponding sequencing data for fast5 - fastq\n",
    "And then making a pickled dataset with all the best estimates"
   ]
  },
  {
   "cell_type": "code",
   "execution_count": null,
   "id": "51c6c41d",
   "metadata": {},
   "outputs": [],
   "source": [
    "from utils import get_data_from_fast5, get_fastq_records\n",
    "import os\n",
    "import gzip\n",
    "import shutil\n",
    "from tqdm import tqdm"
   ]
  },
  {
   "cell_type": "code",
   "execution_count": 35,
   "id": "41d8c295",
   "metadata": {},
   "outputs": [],
   "source": [
    "def extract_tar_file(input_filepath):\n",
    "    output_filepath = input_filepath[:-3]\n",
    "    with gzip.open(input_filepath, \"rb\") as f_in:\n",
    "        with open(output_filepath, \"wb\") as f_out:\n",
    "            shutil.copyfileobj(f_in, f_out)\n",
    "    "
   ]
  },
  {
   "cell_type": "code",
   "execution_count": null,
   "id": "f176751f",
   "metadata": {},
   "outputs": [
    {
     "name": "stderr",
     "output_type": "stream",
     "text": [
      "100%|██████████| 36/36 [00:08<00:00,  4.40it/s]\n"
     ]
    }
   ],
   "source": [
    "# fastq data\n",
    "\n",
    "fq_records_total = []\n",
    "\n",
    "preceeding_path = r'epi2melabs\\fast5_tutorial\\sample_fast5\\sample_fast5'\n",
    "preceeding_path = os.path.join(os.getcwd(), preceeding_path)\n",
    "\n",
    "for file in tqdm(os.listdir(preceeding_path)):\n",
    "    if file.endswith('.gz'):\n",
    "        full_filepath = os.path.join(preceeding_path, file)\n",
    "        extract_tar_file(full_filepath)\n",
    "        records = get_fastq_records(full_filepath[:-3])\n",
    "        fq_records_total.append(records)\n",
    "\n"
   ]
  },
  {
   "cell_type": "code",
   "execution_count": 47,
   "id": "fb559305",
   "metadata": {},
   "outputs": [
    {
     "name": "stderr",
     "output_type": "stream",
     "text": [
      "100%|██████████| 5/5 [00:43<00:00,  8.65s/it]\n"
     ]
    }
   ],
   "source": [
    "# fast5 data\n",
    "squiggles_arr = []\n",
    "read_ids_arr = []\n",
    "\n",
    "preceeding_path = r'epi2melabs\\fast5_tutorial\\sample_fast5\\sample_fast5\\workspace'\n",
    "preceeding_path = os.path.join(os.getcwd(), preceeding_path)\n",
    "\n",
    "for file in tqdm(os.listdir(preceeding_path)):\n",
    "    if file.endswith('.fast5'):\n",
    "        full_filepath = os.path.join(preceeding_path, file)\n",
    "        read_ids, squiggles = get_data_from_fast5(full_filepath)\n",
    "        squiggles_arr.extend(squiggles)\n",
    "        read_ids_arr.extend(read_ids)"
   ]
  },
  {
   "cell_type": "code",
   "execution_count": 48,
   "id": "e46523b5",
   "metadata": {},
   "outputs": [
    {
     "data": {
      "text/plain": [
       "20000"
      ]
     },
     "execution_count": 48,
     "metadata": {},
     "output_type": "execute_result"
    }
   ],
   "source": [
    "len(squiggles_arr)"
   ]
  },
  {
   "cell_type": "code",
   "execution_count": 49,
   "id": "125bebf3",
   "metadata": {},
   "outputs": [
    {
     "data": {
      "text/plain": [
       "SeqRecord(seq=Seq('CAGTGTACTTCGTTCAGTTACGTACTACTTGCCTGTCGCTCTACTTCGGCGTCT...CTT'), id='6ea6609b-2962-4ac4-a792-5375fb9b2d23', name='6ea6609b-2962-4ac4-a792-5375fb9b2d23', description='6ea6609b-2962-4ac4-a792-5375fb9b2d23 runid=2bf4f211a2e2d04662e50f27448cfd99dafbd7ee sampleid=DS_R941_M12_ZYMO read=40 ch=450 start_time=2019-01-15T15:54:54Z', dbxrefs=[])"
      ]
     },
     "execution_count": 49,
     "metadata": {},
     "output_type": "execute_result"
    }
   ],
   "source": [
    "fq_records[0]"
   ]
  },
  {
   "cell_type": "code",
   "execution_count": 50,
   "id": "54de902c",
   "metadata": {},
   "outputs": [],
   "source": [
    "# Gotta make a dataframe and then I can merge via read id\n",
    "\n",
    "import pandas as pd\n",
    "\n",
    "read_ids_fq = []\n",
    "strands_fq = []\n",
    "\n",
    "for record in fq_records:\n",
    "    read_ids_fq.append(record.id)\n",
    "    strands_fq.append(str(record.seq))\n"
   ]
  },
  {
   "cell_type": "code",
   "execution_count": 52,
   "id": "8d10751f",
   "metadata": {},
   "outputs": [],
   "source": [
    "df_fq = pd.DataFrame({\"read_id\": read_ids_fq, \"strand\": strands_fq})  # fastq dataframe"
   ]
  },
  {
   "cell_type": "code",
   "execution_count": 54,
   "id": "bb1c6c5f",
   "metadata": {},
   "outputs": [],
   "source": [
    "df_f5 = pd.DataFrame({\"read_id\": read_ids_arr, \"squiggle\": squiggles_arr})"
   ]
  },
  {
   "cell_type": "code",
   "execution_count": 56,
   "id": "f0bb40db",
   "metadata": {},
   "outputs": [],
   "source": [
    "df = df_fq.merge(df_f5, on='read_id')"
   ]
  },
  {
   "cell_type": "code",
   "execution_count": 58,
   "id": "5653370f",
   "metadata": {},
   "outputs": [],
   "source": [
    "df.to_pickle(\"clean_f5_fq_data_ont.pkl\")"
   ]
  }
 ],
 "metadata": {
  "kernelspec": {
   "display_name": "pytorch_gpu",
   "language": "python",
   "name": "python3"
  },
  "language_info": {
   "codemirror_mode": {
    "name": "ipython",
    "version": 3
   },
   "file_extension": ".py",
   "mimetype": "text/x-python",
   "name": "python",
   "nbconvert_exporter": "python",
   "pygments_lexer": "ipython3",
   "version": "3.12.3"
  }
 },
 "nbformat": 4,
 "nbformat_minor": 5
}
